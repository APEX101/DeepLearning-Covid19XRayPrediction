{
 "cells": [
  {
   "cell_type": "code",
   "execution_count": null,
   "metadata": {
    "colab": {
     "base_uri": "https://localhost:8080/"
    },
    "executionInfo": {
     "elapsed": 583,
     "status": "ok",
     "timestamp": 1629716007110,
     "user": {
      "displayName": "Ahmad Hassan",
      "photoUrl": "https://lh3.googleusercontent.com/a-/AOh14GjivyZWj5GkXWxaN_1rEQX7vl4f0UJ9xojCjxOagw=s64",
      "userId": "15564875757963476455"
     },
     "user_tz": -300
    },
    "id": "c-y5dwJjc-Vt",
    "outputId": "2d3e0e7d-c06a-4b48-df79-26f13b2aaaaf"
   },
   "outputs": [
    {
     "name": "stdout",
     "output_type": "stream",
     "text": [
      "Mon Aug 23 10:54:43 2021       \n",
      "+-----------------------------------------------------------------------------+\n",
      "| NVIDIA-SMI 470.57.02    Driver Version: 460.32.03    CUDA Version: 11.2     |\n",
      "|-------------------------------+----------------------+----------------------+\n",
      "| GPU  Name        Persistence-M| Bus-Id        Disp.A | Volatile Uncorr. ECC |\n",
      "| Fan  Temp  Perf  Pwr:Usage/Cap|         Memory-Usage | GPU-Util  Compute M. |\n",
      "|                               |                      |               MIG M. |\n",
      "|===============================+======================+======================|\n",
      "|   0  Tesla K80           Off  | 00000000:00:04.0 Off |                    0 |\n",
      "| N/A   39C    P8    28W / 149W |      0MiB / 11441MiB |      0%      Default |\n",
      "|                               |                      |                  N/A |\n",
      "+-------------------------------+----------------------+----------------------+\n",
      "                                                                               \n",
      "+-----------------------------------------------------------------------------+\n",
      "| Processes:                                                                  |\n",
      "|  GPU   GI   CI        PID   Type   Process name                  GPU Memory |\n",
      "|        ID   ID                                                   Usage      |\n",
      "|=============================================================================|\n",
      "|  No running processes found                                                 |\n",
      "+-----------------------------------------------------------------------------+\n"
     ]
    }
   ],
   "source": [
    "!nvidia-smi"
   ]
  },
  {
   "cell_type": "code",
   "execution_count": null,
   "metadata": {
    "colab": {
     "base_uri": "https://localhost:8080/"
    },
    "executionInfo": {
     "elapsed": 26342,
     "status": "ok",
     "timestamp": 1629716036549,
     "user": {
      "displayName": "Ahmad Hassan",
      "photoUrl": "https://lh3.googleusercontent.com/a-/AOh14GjivyZWj5GkXWxaN_1rEQX7vl4f0UJ9xojCjxOagw=s64",
      "userId": "15564875757963476455"
     },
     "user_tz": -300
    },
    "id": "1JNcH-mneRpp",
    "outputId": "d39013e9-c24b-48c1-a70a-58d911998a5a"
   },
   "outputs": [
    {
     "name": "stdout",
     "output_type": "stream",
     "text": [
      "Mounted at /content/drive\n"
     ]
    }
   ],
   "source": [
    "from google.colab import drive\n",
    "drive.mount ('/content/drive')"
   ]
  },
  {
   "cell_type": "code",
   "execution_count": null,
   "metadata": {
    "colab": {
     "base_uri": "https://localhost:8080/"
    },
    "executionInfo": {
     "elapsed": 11,
     "status": "ok",
     "timestamp": 1629716036551,
     "user": {
      "displayName": "Ahmad Hassan",
      "photoUrl": "https://lh3.googleusercontent.com/a-/AOh14GjivyZWj5GkXWxaN_1rEQX7vl4f0UJ9xojCjxOagw=s64",
      "userId": "15564875757963476455"
     },
     "user_tz": -300
    },
    "id": "lPBTOYjKeW_2",
    "outputId": "0fd069d6-95de-4eac-a27d-4633a335f5d2"
   },
   "outputs": [
    {
     "name": "stdout",
     "output_type": "stream",
     "text": [
      "drive  sample_data\n"
     ]
    }
   ],
   "source": [
    "!ls"
   ]
  },
  {
   "cell_type": "markdown",
   "metadata": {
    "id": "h1HmIVrwekPW"
   },
   "source": [
    "# Data PreProcessing"
   ]
  },
  {
   "cell_type": "code",
   "execution_count": null,
   "metadata": {
    "id": "BKk2mRzVevrG"
   },
   "outputs": [],
   "source": [
    "import numpy as np\n",
    "import matplotlib.pyplot as plt\n",
    "import seaborn as sns\n",
    "import pandas as pd\n",
    "\n",
    "%matplotlib inline"
   ]
  },
  {
   "cell_type": "code",
   "execution_count": null,
   "metadata": {
    "colab": {
     "base_uri": "https://localhost:8080/"
    },
    "executionInfo": {
     "elapsed": 6,
     "status": "ok",
     "timestamp": 1629716037282,
     "user": {
      "displayName": "Ahmad Hassan",
      "photoUrl": "https://lh3.googleusercontent.com/a-/AOh14GjivyZWj5GkXWxaN_1rEQX7vl4f0UJ9xojCjxOagw=s64",
      "userId": "15564875757963476455"
     },
     "user_tz": -300
    },
    "id": "4X6jovWre8tm",
    "outputId": "dca815f4-6e34-45fa-fc76-b46dec473e78"
   },
   "outputs": [
    {
     "name": "stdout",
     "output_type": "stream",
     "text": [
      "/content/drive/MyDrive/CNN Covid19 Xray predictions\n"
     ]
    }
   ],
   "source": [
    "%cd \"/content/drive/MyDrive/CNN Covid19 Xray predictions\""
   ]
  },
  {
   "cell_type": "code",
   "execution_count": null,
   "metadata": {
    "colab": {
     "base_uri": "https://localhost:8080/"
    },
    "executionInfo": {
     "elapsed": 7,
     "status": "ok",
     "timestamp": 1629716037907,
     "user": {
      "displayName": "Ahmad Hassan",
      "photoUrl": "https://lh3.googleusercontent.com/a-/AOh14GjivyZWj5GkXWxaN_1rEQX7vl4f0UJ9xojCjxOagw=s64",
      "userId": "15564875757963476455"
     },
     "user_tz": -300
    },
    "id": "ZtPDUX9tf8im",
    "outputId": "c2a36449-2955-4fff-81cd-dbec5ff3e6ca"
   },
   "outputs": [
    {
     "name": "stdout",
     "output_type": "stream",
     "text": [
      " archive_9.zip\t chest_xray  'CovidXray Predictor.ipynb'\n"
     ]
    }
   ],
   "source": [
    "!ls"
   ]
  },
  {
   "cell_type": "code",
   "execution_count": null,
   "metadata": {
    "id": "t_LrxjKlgCUW"
   },
   "outputs": [],
   "source": [
    "# Unzipping the images file\n",
    "# !unzip '/content/drive/MyDrive/CNN Covid19 Xray predictions/archive_9.zip' -d  '/content/drive/MyDrive/CNN Covid19 Xray predictions'"
   ]
  },
  {
   "cell_type": "code",
   "execution_count": null,
   "metadata": {
    "id": "EHTYTzWVgYC2"
   },
   "outputs": [],
   "source": []
  },
  {
   "cell_type": "markdown",
   "metadata": {
    "id": "Mc-7VvSmiG9u"
   },
   "source": [
    "## Creating Paths"
   ]
  },
  {
   "cell_type": "code",
   "execution_count": null,
   "metadata": {
    "id": "HmO5fsW0iJe1"
   },
   "outputs": [],
   "source": [
    "import os"
   ]
  },
  {
   "cell_type": "code",
   "execution_count": null,
   "metadata": {
    "id": "OYc737WfiN4l"
   },
   "outputs": [],
   "source": [
    "#Train and Test directories\n",
    "train_dir = '/content/drive/MyDrive/CNN Covid19 Xray predictions/chest_xray/train' \n",
    "test_dir = '/content/drive/MyDrive/CNN Covid19 Xray predictions/chest_xray/test'"
   ]
  },
  {
   "cell_type": "code",
   "execution_count": null,
   "metadata": {
    "colab": {
     "base_uri": "https://localhost:8080/"
    },
    "executionInfo": {
     "elapsed": 909,
     "status": "ok",
     "timestamp": 1629716041722,
     "user": {
      "displayName": "Ahmad Hassan",
      "photoUrl": "https://lh3.googleusercontent.com/a-/AOh14GjivyZWj5GkXWxaN_1rEQX7vl4f0UJ9xojCjxOagw=s64",
      "userId": "15564875757963476455"
     },
     "user_tz": -300
    },
    "id": "HtJk1NMoiQUW",
    "outputId": "b629ff9c-21b7-4e13-d799-d07464226511"
   },
   "outputs": [
    {
     "data": {
      "text/plain": [
       "['NORMAL', 'PNEUMONIA']"
      ]
     },
     "execution_count": 11,
     "metadata": {},
     "output_type": "execute_result"
    }
   ],
   "source": [
    "os.listdir(test_dir)"
   ]
  },
  {
   "cell_type": "code",
   "execution_count": null,
   "metadata": {
    "id": "sSznhdg1ibVY"
   },
   "outputs": [],
   "source": [
    "#Making Train paths for both classes\n",
    "normal = train_dir+'/NORMAL'\n",
    "effected = train_dir+'/PNEUMONIA'  \n",
    "\n",
    "normalT = test_dir+'/NORMAL'\n",
    "effectedT = test_dir+'/PNEUMONIA' \n"
   ]
  },
  {
   "cell_type": "code",
   "execution_count": null,
   "metadata": {
    "colab": {
     "base_uri": "https://localhost:8080/"
    },
    "executionInfo": {
     "elapsed": 7744,
     "status": "ok",
     "timestamp": 1629716049988,
     "user": {
      "displayName": "Ahmad Hassan",
      "photoUrl": "https://lh3.googleusercontent.com/a-/AOh14GjivyZWj5GkXWxaN_1rEQX7vl4f0UJ9xojCjxOagw=s64",
      "userId": "15564875757963476455"
     },
     "user_tz": -300
    },
    "id": "nfC1NQGRknb2",
    "outputId": "ec6c94e1-a435-4d35-e4b7-ab360fd87e20"
   },
   "outputs": [
    {
     "data": {
      "text/plain": [
       "['IM-0531-0001.jpeg',\n",
       " 'IM-0539-0001.jpeg',\n",
       " 'IM-0533-0001.jpeg',\n",
       " 'IM-0538-0001.jpeg',\n",
       " 'IM-0526-0001.jpeg',\n",
       " 'IM-0524-0001.jpeg',\n",
       " 'IM-0533-0001-0001.jpeg',\n",
       " 'IM-0531-0001-0001.jpeg',\n",
       " 'IM-0523-0001-0001.jpeg',\n",
       " 'IM-0540-0001.jpeg',\n",
       " 'IM-0525-0001.jpeg',\n",
       " 'IM-0536-0001.jpeg',\n",
       " 'IM-0523-0001-0002.jpeg',\n",
       " 'IM-0528-0001.jpeg',\n",
       " 'IM-0530-0001.jpeg',\n",
       " 'IM-0522-0001.jpeg',\n",
       " 'IM-0529-0001.jpeg',\n",
       " 'IM-0534-0001.jpeg',\n",
       " 'IM-0539-0001-0002.jpeg',\n",
       " 'IM-0525-0001-0002.jpeg',\n",
       " 'IM-0539-0001-0001.jpeg',\n",
       " 'IM-0523-0001-0003.jpeg',\n",
       " 'IM-0527-0001.jpeg',\n",
       " 'IM-0533-0001-0002.jpeg',\n",
       " 'IM-0545-0001-0002.jpeg',\n",
       " 'IM-0553-0001.jpeg',\n",
       " 'IM-0546-0001.jpeg',\n",
       " 'IM-0553-0001-0001.jpeg',\n",
       " 'IM-0549-0001.jpeg',\n",
       " 'IM-0548-0001.jpeg',\n",
       " 'IM-0552-0001.jpeg',\n",
       " 'IM-0545-0001.jpeg',\n",
       " 'IM-0549-0001-0001.jpeg',\n",
       " 'IM-0553-0001-0002.jpeg',\n",
       " 'IM-0549-0001-0002.jpeg',\n",
       " 'IM-0554-0001.jpeg',\n",
       " 'IM-0542-0001.jpeg',\n",
       " 'IM-0551-0001.jpeg',\n",
       " 'IM-0541-0001.jpeg',\n",
       " 'IM-0545-0001-0001.jpeg',\n",
       " 'IM-0553-0001-0003.jpeg',\n",
       " 'IM-0543-0001-0002.jpeg',\n",
       " 'IM-0544-0001.jpeg',\n",
       " 'IM-0543-0001.jpeg',\n",
       " 'IM-0551-0001-0002.jpeg',\n",
       " 'IM-0551-0001-0001.jpeg',\n",
       " 'IM-0547-0001.jpeg',\n",
       " 'IM-0579-0001.jpeg',\n",
       " 'IM-0555-0001-0002.jpeg',\n",
       " 'IM-0556-0001.jpeg',\n",
       " 'IM-0571-0001.jpeg',\n",
       " 'IM-0564-0001.jpeg',\n",
       " 'IM-0565-0001.jpeg',\n",
       " 'IM-0570-0001.jpeg',\n",
       " 'IM-0566-0001.jpeg',\n",
       " 'IM-0555-0001.jpeg',\n",
       " 'IM-0555-0001-0001.jpeg',\n",
       " 'IM-0574-0001.jpeg',\n",
       " 'IM-0569-0001.jpeg',\n",
       " 'IM-0568-0001.jpeg',\n",
       " 'IM-0580-0001.jpeg',\n",
       " 'IM-0562-0001.jpeg',\n",
       " 'IM-0577-0001.jpeg',\n",
       " 'IM-0557-0001.jpeg',\n",
       " 'IM-0578-0001.jpeg',\n",
       " 'IM-0575-0001.jpeg',\n",
       " 'IM-0560-0001.jpeg',\n",
       " 'IM-0581-0001.jpeg',\n",
       " 'IM-0563-0001.jpeg',\n",
       " 'IM-0561-0001.jpeg',\n",
       " 'IM-0559-0001.jpeg',\n",
       " 'IM-0590-0001.jpeg',\n",
       " 'IM-0600-0001.jpeg',\n",
       " 'IM-0604-0001.jpeg',\n",
       " 'IM-0582-0001.jpeg',\n",
       " 'IM-0606-0001.jpeg',\n",
       " 'IM-0583-0001.jpeg',\n",
       " 'IM-0588-0001.jpeg',\n",
       " 'IM-0602-0001.jpeg',\n",
       " 'IM-0608-0001.jpeg',\n",
       " 'IM-0609-0001.jpeg',\n",
       " 'IM-0605-0001.jpeg',\n",
       " 'IM-0612-0001-0002.jpeg',\n",
       " 'IM-0596-0001.jpeg',\n",
       " 'IM-0593-0001.jpeg',\n",
       " 'IM-0612-0001.jpeg',\n",
       " 'IM-0607-0001.jpeg',\n",
       " 'IM-0584-0001.jpeg',\n",
       " 'IM-0592-0001.jpeg',\n",
       " 'IM-0612-0001-0001.jpeg',\n",
       " 'IM-0608-0001-0002.jpeg',\n",
       " 'IM-0591-0001.jpeg',\n",
       " 'IM-0608-0001-0001.jpeg',\n",
       " 'IM-0595-0001.jpeg',\n",
       " 'IM-0601-0001.jpeg',\n",
       " 'IM-0598-0001.jpeg',\n",
       " 'IM-0586-0001.jpeg',\n",
       " 'IM-0599-0001.jpeg',\n",
       " 'IM-0613-0001.jpeg',\n",
       " 'IM-0627-0001.jpeg',\n",
       " 'IM-0621-0001.jpeg',\n",
       " 'IM-0620-0001.jpeg',\n",
       " 'IM-0614-0001.jpeg',\n",
       " 'IM-0620-0001-0002.jpeg',\n",
       " 'IM-0624-0001.jpeg',\n",
       " 'IM-0617-0001.jpeg',\n",
       " 'IM-0625-0001.jpeg',\n",
       " 'IM-0628-0001.jpeg',\n",
       " 'IM-0618-0001-0002.jpeg',\n",
       " 'IM-0624-0001-0002.jpeg',\n",
       " 'IM-0618-0001.jpeg',\n",
       " 'IM-0622-0001-0001.jpeg',\n",
       " 'IM-0619-0001.jpeg',\n",
       " 'IM-0629-0001-0001.jpeg',\n",
       " 'IM-0626-0001-0002.jpeg',\n",
       " 'IM-0616-0001.jpeg',\n",
       " 'IM-0626-0001-0001.jpeg',\n",
       " 'IM-0622-0001.jpeg',\n",
       " 'IM-0620-0001-0001.jpeg',\n",
       " 'IM-0623-0001.jpeg',\n",
       " 'IM-0615-0001.jpeg',\n",
       " 'IM-0622-0001-0002.jpeg',\n",
       " 'IM-0618-0001-0001.jpeg',\n",
       " 'IM-0631-0001-0001.jpeg',\n",
       " 'IM-0629-0001-0002.jpeg',\n",
       " 'IM-0645-0001.jpeg',\n",
       " 'IM-0647-0001.jpeg',\n",
       " 'IM-0635-0001.jpeg',\n",
       " 'IM-0636-0001.jpeg',\n",
       " 'IM-0637-0001.jpeg',\n",
       " 'IM-0646-0001.jpeg',\n",
       " 'IM-0643-0001.jpeg',\n",
       " 'IM-0629-0001.jpeg',\n",
       " 'IM-0642-0001.jpeg',\n",
       " 'IM-0630-0001.jpeg',\n",
       " 'IM-0644-0001.jpeg',\n",
       " 'IM-0631-0001-0002.jpeg',\n",
       " 'IM-0644-0001-0002.jpeg',\n",
       " 'IM-0640-0001.jpeg',\n",
       " 'IM-0648-0001.jpeg',\n",
       " 'IM-0640-0001-0001.jpeg',\n",
       " 'IM-0640-0001-0002.jpeg',\n",
       " 'IM-0633-0001.jpeg',\n",
       " 'IM-0629-0001-0003.jpeg',\n",
       " 'IM-0634-0001.jpeg',\n",
       " 'IM-0631-0001.jpeg',\n",
       " 'IM-0644-0001-0001.jpeg',\n",
       " 'IM-0649-0001.jpeg',\n",
       " 'IM-0641-0001.jpeg',\n",
       " 'IM-0650-0001-0001.jpeg',\n",
       " 'IM-0632-0001.jpeg',\n",
       " 'IM-0652-0001-0002.jpeg',\n",
       " 'IM-0665-0001.jpeg',\n",
       " 'IM-0666-0001.jpeg',\n",
       " 'IM-0667-0001.jpeg',\n",
       " 'IM-0650-0001.jpeg',\n",
       " 'IM-0661-0001.jpeg',\n",
       " 'IM-0656-0001-0001.jpeg',\n",
       " 'IM-0651-0001.jpeg',\n",
       " 'IM-0659-0001.jpeg',\n",
       " 'IM-0656-0001.jpeg',\n",
       " 'IM-0652-0001.jpeg',\n",
       " 'IM-0657-0001.jpeg',\n",
       " 'IM-0650-0001-0002.jpeg',\n",
       " 'IM-0664-0001.jpeg',\n",
       " 'IM-0666-0001-0002.jpeg',\n",
       " 'IM-0662-0001.jpeg',\n",
       " 'IM-0660-0001-0001.jpeg',\n",
       " 'IM-0658-0001.jpeg',\n",
       " 'IM-0654-0001.jpeg',\n",
       " 'IM-0656-0001-0002.jpeg',\n",
       " 'IM-0666-0001-0001.jpeg',\n",
       " 'IM-0660-0001.jpeg',\n",
       " 'IM-0660-0001-0002.jpeg',\n",
       " 'IM-0663-0001.jpeg',\n",
       " 'IM-0655-0001.jpeg',\n",
       " 'IM-0674-0001.jpeg',\n",
       " 'IM-0678-0001.jpeg',\n",
       " 'IM-0679-0001.jpeg',\n",
       " 'IM-0682-0001.jpeg',\n",
       " 'IM-0683-0001.jpeg',\n",
       " 'IM-0691-0001.jpeg',\n",
       " 'IM-0689-0001.jpeg',\n",
       " 'IM-0676-0001.jpeg',\n",
       " 'IM-0681-0001.jpeg',\n",
       " 'IM-0692-0001.jpeg',\n",
       " 'IM-0675-0001.jpeg',\n",
       " 'IM-0669-0001.jpeg',\n",
       " 'IM-0677-0001.jpeg',\n",
       " 'IM-0685-0001.jpeg',\n",
       " 'IM-0671-0001.jpeg',\n",
       " 'IM-0680-0001.jpeg',\n",
       " 'IM-0668-0001.jpeg',\n",
       " 'IM-0670-0001.jpeg',\n",
       " 'IM-0688-0001.jpeg',\n",
       " 'IM-0672-0001.jpeg',\n",
       " 'IM-0673-0001.jpeg',\n",
       " 'IM-0687-0001.jpeg',\n",
       " 'IM-0686-0001.jpeg',\n",
       " 'IM-0684-0001.jpeg',\n",
       " 'IM-0698-0001.jpeg',\n",
       " 'IM-0701-0001.jpeg',\n",
       " 'IM-0727-0001.jpeg',\n",
       " 'IM-0715-0001.jpeg',\n",
       " 'IM-0728-0001.jpeg',\n",
       " 'IM-0695-0001.jpeg',\n",
       " 'IM-0714-0001.jpeg',\n",
       " 'IM-0702-0001.jpeg',\n",
       " 'IM-0706-0001.jpeg',\n",
       " 'IM-0722-0001.jpeg',\n",
       " 'IM-0694-0001.jpeg',\n",
       " 'IM-0703-0001.jpeg',\n",
       " 'IM-0718-0001.jpeg',\n",
       " 'IM-0696-0001.jpeg',\n",
       " 'IM-0700-0001.jpeg',\n",
       " 'IM-0693-0001.jpeg',\n",
       " 'IM-0719-0001.jpeg',\n",
       " 'IM-0712-0001.jpeg',\n",
       " 'IM-0724-0001.jpeg',\n",
       " 'IM-0713-0001.jpeg',\n",
       " 'IM-0721-0001.jpeg',\n",
       " 'IM-0697-0001.jpeg',\n",
       " 'IM-0707-0001.jpeg',\n",
       " 'IM-0705-0001.jpeg',\n",
       " 'IM-0709-0001.jpeg',\n",
       " 'IM-0730-0001.jpeg',\n",
       " 'IM-0710-0001.jpeg',\n",
       " 'IM-0704-0001.jpeg',\n",
       " 'IM-0716-0001.jpeg',\n",
       " 'IM-0729-0001.jpeg',\n",
       " 'IM-0717-0001.jpeg',\n",
       " 'IM-0711-0001.jpeg',\n",
       " 'IM-0732-0001.jpeg',\n",
       " 'IM-0747-0001.jpeg',\n",
       " 'IM-0738-0001.jpeg',\n",
       " 'IM-0733-0001.jpeg',\n",
       " 'IM-0754-0001.jpeg',\n",
       " 'NORMAL2-IM-0384-0001.jpeg',\n",
       " 'IM-0766-0001.jpeg',\n",
       " 'IM-0764-0001.jpeg',\n",
       " 'IM-0753-0001.jpeg',\n",
       " 'IM-0746-0001.jpeg',\n",
       " 'NORMAL2-IM-0385-0001.jpeg',\n",
       " 'IM-0748-0001.jpeg',\n",
       " 'NORMAL2-IM-0391-0001.jpeg',\n",
       " 'IM-0761-0001.jpeg',\n",
       " 'IM-0741-0001.jpeg',\n",
       " 'NORMAL2-IM-0390-0001.jpeg',\n",
       " 'NORMAL2-IM-0392-0001.jpeg',\n",
       " 'NORMAL2-IM-0388-0001.jpeg',\n",
       " 'NORMAL2-IM-0389-0001.jpeg',\n",
       " 'IM-0740-0001.jpeg',\n",
       " 'IM-0755-0001.jpeg',\n",
       " 'IM-0757-0001.jpeg',\n",
       " 'NORMAL2-IM-0386-0001.jpeg',\n",
       " 'IM-0739-0001.jpeg',\n",
       " 'IM-0752-0001.jpeg',\n",
       " 'IM-0735-0001.jpeg',\n",
       " 'NORMAL2-IM-0393-0001.jpeg',\n",
       " 'IM-0751-0001.jpeg',\n",
       " 'IM-0750-0001.jpeg',\n",
       " 'NORMAL2-IM-0383-0001.jpeg',\n",
       " 'IM-0736-0001.jpeg',\n",
       " 'IM-0742-0001.jpeg',\n",
       " 'IM-0737-0001.jpeg',\n",
       " 'IM-0734-0001.jpeg',\n",
       " 'NORMAL2-IM-0395-0001-0001.jpeg',\n",
       " 'NORMAL2-IM-0394-0001.jpeg',\n",
       " 'NORMAL2-IM-0407-0001.jpeg',\n",
       " 'NORMAL2-IM-0416-0001-0001.jpeg',\n",
       " 'NORMAL2-IM-0413-0001.jpeg',\n",
       " 'NORMAL2-IM-0403-0001.jpeg',\n",
       " 'NORMAL2-IM-0410-0001.jpeg',\n",
       " 'NORMAL2-IM-0415-0001.jpeg',\n",
       " 'NORMAL2-IM-0408-0001.jpeg',\n",
       " 'NORMAL2-IM-0419-0001.jpeg',\n",
       " 'NORMAL2-IM-0395-0001-0002.jpeg',\n",
       " 'NORMAL2-IM-0418-0001.jpeg',\n",
       " 'NORMAL2-IM-0404-0001.jpeg',\n",
       " 'NORMAL2-IM-0412-0001.jpeg',\n",
       " 'NORMAL2-IM-0417-0001.jpeg',\n",
       " 'NORMAL2-IM-0399-0001.jpeg',\n",
       " 'NORMAL2-IM-0397-0001.jpeg',\n",
       " 'NORMAL2-IM-0421-0001.jpeg',\n",
       " 'NORMAL2-IM-0396-0001.jpeg',\n",
       " 'NORMAL2-IM-0409-0001.jpeg',\n",
       " 'NORMAL2-IM-0416-0001-0002.jpeg',\n",
       " 'NORMAL2-IM-0414-0001.jpeg',\n",
       " 'NORMAL2-IM-0395-0001.jpeg',\n",
       " 'NORMAL2-IM-0416-0001.jpeg',\n",
       " 'NORMAL2-IM-0401-0001.jpeg',\n",
       " 'NORMAL2-IM-0402-0001.jpeg',\n",
       " 'NORMAL2-IM-0406-0001.jpeg',\n",
       " 'NORMAL2-IM-0451-0001.jpeg',\n",
       " 'NORMAL2-IM-0425-0001.jpeg',\n",
       " 'NORMAL2-IM-0448-0001.jpeg',\n",
       " 'NORMAL2-IM-0447-0001.jpeg',\n",
       " 'NORMAL2-IM-0423-0001.jpeg',\n",
       " 'NORMAL2-IM-0424-0001.jpeg',\n",
       " 'NORMAL2-IM-0450-0001.jpeg',\n",
       " 'NORMAL2-IM-0428-0001.jpeg',\n",
       " 'NORMAL2-IM-0449-0001.jpeg',\n",
       " 'NORMAL2-IM-0454-0001.jpeg',\n",
       " 'NORMAL2-IM-0445-0001.jpeg',\n",
       " 'NORMAL2-IM-0440-0001.jpeg',\n",
       " 'NORMAL2-IM-0429-0001.jpeg',\n",
       " 'NORMAL2-IM-0452-0001.jpeg',\n",
       " 'NORMAL2-IM-0453-0001.jpeg',\n",
       " 'NORMAL2-IM-0443-0001.jpeg',\n",
       " 'NORMAL2-IM-0441-0001.jpeg',\n",
       " 'NORMAL2-IM-0435-0001.jpeg',\n",
       " 'NORMAL2-IM-0455-0001.jpeg',\n",
       " 'NORMAL2-IM-0433-0001.jpeg',\n",
       " 'NORMAL2-IM-0427-0001.jpeg',\n",
       " 'NORMAL2-IM-0439-0001.jpeg',\n",
       " 'NORMAL2-IM-0437-0001.jpeg',\n",
       " 'NORMAL2-IM-0456-0001.jpeg',\n",
       " 'NORMAL2-IM-0476-0001.jpeg',\n",
       " 'NORMAL2-IM-0465-0001.jpeg',\n",
       " 'NORMAL2-IM-0472-0001.jpeg',\n",
       " 'NORMAL2-IM-0481-0001.jpeg',\n",
       " 'NORMAL2-IM-0488-0001.jpeg',\n",
       " 'NORMAL2-IM-0480-0001.jpeg',\n",
       " 'NORMAL2-IM-0466-0001.jpeg',\n",
       " 'NORMAL2-IM-0475-0001.jpeg',\n",
       " 'NORMAL2-IM-0460-0001.jpeg',\n",
       " 'NORMAL2-IM-0496-0001.jpeg',\n",
       " 'NORMAL2-IM-0482-0001.jpeg',\n",
       " 'NORMAL2-IM-0487-0001.jpeg',\n",
       " 'NORMAL2-IM-0458-0001.jpeg',\n",
       " 'NORMAL2-IM-0463-0001.jpeg',\n",
       " 'NORMAL2-IM-0462-0001.jpeg',\n",
       " 'NORMAL2-IM-0489-0001.jpeg',\n",
       " 'NORMAL2-IM-0464-0001.jpeg',\n",
       " 'NORMAL2-IM-0486-0001.jpeg',\n",
       " 'NORMAL2-IM-0493-0001.jpeg',\n",
       " 'NORMAL2-IM-0485-0001.jpeg',\n",
       " 'NORMAL2-IM-0491-0001.jpeg',\n",
       " 'NORMAL2-IM-0478-0001.jpeg',\n",
       " 'NORMAL2-IM-0474-0001.jpeg',\n",
       " 'NORMAL2-IM-0479-0001.jpeg',\n",
       " 'NORMAL2-IM-0490-0001.jpeg',\n",
       " 'NORMAL2-IM-0473-0001.jpeg',\n",
       " 'NORMAL2-IM-0468-0001.jpeg',\n",
       " 'NORMAL2-IM-0497-0001.jpeg',\n",
       " 'NORMAL2-IM-0512-0001.jpeg',\n",
       " 'NORMAL2-IM-0503-0001.jpeg',\n",
       " 'NORMAL2-IM-0516-0001.jpeg',\n",
       " 'NORMAL2-IM-0501-0001.jpeg',\n",
       " 'NORMAL2-IM-0506-0001.jpeg',\n",
       " 'NORMAL2-IM-0526-0001.jpeg',\n",
       " 'NORMAL2-IM-0529-0001.jpeg',\n",
       " 'NORMAL2-IM-0522-0001.jpeg',\n",
       " 'NORMAL2-IM-0513-0001.jpeg',\n",
       " 'NORMAL2-IM-0525-0001.jpeg',\n",
       " 'NORMAL2-IM-0499-0001.jpeg',\n",
       " 'NORMAL2-IM-0523-0001.jpeg',\n",
       " 'NORMAL2-IM-0518-0001.jpeg',\n",
       " 'NORMAL2-IM-0500-0001.jpeg',\n",
       " 'NORMAL2-IM-0509-0001.jpeg',\n",
       " 'NORMAL2-IM-0508-0001.jpeg',\n",
       " 'NORMAL2-IM-0521-0001.jpeg',\n",
       " 'NORMAL2-IM-0515-0001.jpeg',\n",
       " 'NORMAL2-IM-0507-0001.jpeg',\n",
       " 'NORMAL2-IM-0511-0001.jpeg',\n",
       " 'NORMAL2-IM-0517-0001.jpeg',\n",
       " 'NORMAL2-IM-0530-0001.jpeg',\n",
       " 'NORMAL2-IM-0520-0001.jpeg',\n",
       " 'NORMAL2-IM-0502-0001.jpeg',\n",
       " 'NORMAL2-IM-0528-0001.jpeg',\n",
       " 'NORMAL2-IM-0552-0001.jpeg',\n",
       " 'NORMAL2-IM-0540-0001.jpeg',\n",
       " 'NORMAL2-IM-0531-0001.jpeg',\n",
       " 'NORMAL2-IM-0535-0001.jpeg',\n",
       " 'NORMAL2-IM-0551-0001.jpeg',\n",
       " 'NORMAL2-IM-0553-0001.jpeg',\n",
       " 'NORMAL2-IM-0555-0001-0001.jpeg',\n",
       " 'NORMAL2-IM-0539-0001.jpeg',\n",
       " 'NORMAL2-IM-0545-0001.jpeg',\n",
       " 'NORMAL2-IM-0558-0001.jpeg',\n",
       " 'NORMAL2-IM-0535-0001-0002.jpeg',\n",
       " 'NORMAL2-IM-0550-0001.jpeg',\n",
       " 'NORMAL2-IM-0541-0001.jpeg',\n",
       " 'NORMAL2-IM-0536-0001.jpeg',\n",
       " 'NORMAL2-IM-0557-0001.jpeg',\n",
       " 'NORMAL2-IM-0547-0001.jpeg',\n",
       " 'NORMAL2-IM-0555-0001.jpeg',\n",
       " 'NORMAL2-IM-0537-0001.jpeg',\n",
       " 'NORMAL2-IM-0543-0001.jpeg',\n",
       " 'NORMAL2-IM-0533-0001.jpeg',\n",
       " 'NORMAL2-IM-0554-0001.jpeg',\n",
       " 'NORMAL2-IM-0555-0001-0002.jpeg',\n",
       " 'NORMAL2-IM-0587-0001-0001.jpeg',\n",
       " 'NORMAL2-IM-0559-0001.jpeg',\n",
       " 'NORMAL2-IM-0569-0001.jpeg',\n",
       " 'NORMAL2-IM-0582-0001.jpeg',\n",
       " 'NORMAL2-IM-0575-0001.jpeg',\n",
       " 'NORMAL2-IM-0566-0001.jpeg',\n",
       " 'NORMAL2-IM-0577-0001.jpeg',\n",
       " 'NORMAL2-IM-0573-0001.jpeg',\n",
       " 'NORMAL2-IM-0576-0001.jpeg',\n",
       " 'NORMAL2-IM-0571-0001.jpeg',\n",
       " 'NORMAL2-IM-0583-0001.jpeg',\n",
       " 'NORMAL2-IM-0567-0001.jpeg',\n",
       " 'NORMAL2-IM-0572-0001.jpeg',\n",
       " 'NORMAL2-IM-0579-0001.jpeg',\n",
       " 'NORMAL2-IM-0568-0001.jpeg',\n",
       " 'NORMAL2-IM-0563-0001.jpeg',\n",
       " 'NORMAL2-IM-0561-0001.jpeg',\n",
       " 'NORMAL2-IM-0580-0001.jpeg',\n",
       " 'NORMAL2-IM-0587-0001-0002.jpeg',\n",
       " 'NORMAL2-IM-0585-0001.jpeg',\n",
       " 'NORMAL2-IM-0564-0001.jpeg',\n",
       " 'NORMAL2-IM-0578-0001.jpeg',\n",
       " 'NORMAL2-IM-0623-0001.jpeg',\n",
       " 'NORMAL2-IM-0595-0001.jpeg',\n",
       " 'NORMAL2-IM-0618-0001.jpeg',\n",
       " 'NORMAL2-IM-0588-0001.jpeg',\n",
       " 'NORMAL2-IM-0587-0001.jpeg',\n",
       " 'NORMAL2-IM-0611-0001.jpeg',\n",
       " 'NORMAL2-IM-0622-0001.jpeg',\n",
       " 'NORMAL2-IM-0594-0001.jpeg',\n",
       " 'NORMAL2-IM-0616-0001.jpeg',\n",
       " 'NORMAL2-IM-0599-0001.jpeg',\n",
       " 'NORMAL2-IM-0617-0001.jpeg',\n",
       " 'NORMAL2-IM-0603-0001.jpeg',\n",
       " 'NORMAL2-IM-0589-0001.jpeg',\n",
       " 'NORMAL2-IM-0609-0001.jpeg',\n",
       " 'NORMAL2-IM-0620-0001.jpeg',\n",
       " 'NORMAL2-IM-0596-0001.jpeg',\n",
       " 'NORMAL2-IM-0601-0001.jpeg',\n",
       " 'NORMAL2-IM-0602-0001.jpeg',\n",
       " 'NORMAL2-IM-0592-0001.jpeg',\n",
       " 'NORMAL2-IM-0621-0001.jpeg',\n",
       " 'NORMAL2-IM-0619-0001.jpeg',\n",
       " 'NORMAL2-IM-0604-0001.jpeg',\n",
       " 'NORMAL2-IM-0600-0001.jpeg',\n",
       " 'NORMAL2-IM-0655-0001.jpeg',\n",
       " 'NORMAL2-IM-0645-0001.jpeg',\n",
       " 'NORMAL2-IM-0652-0001.jpeg',\n",
       " 'NORMAL2-IM-0653-0001.jpeg',\n",
       " 'NORMAL2-IM-0651-0004.jpeg',\n",
       " 'NORMAL2-IM-0635-0001.jpeg',\n",
       " 'NORMAL2-IM-0647-0001.jpeg',\n",
       " 'NORMAL2-IM-0651-0001.jpeg',\n",
       " 'NORMAL2-IM-0636-0001.jpeg',\n",
       " 'NORMAL2-IM-0630-0001.jpeg',\n",
       " 'NORMAL2-IM-0654-0001.jpeg',\n",
       " 'NORMAL2-IM-0641-0001.jpeg',\n",
       " 'NORMAL2-IM-0633-0001.jpeg',\n",
       " 'NORMAL2-IM-0648-0001.jpeg',\n",
       " 'NORMAL2-IM-0650-0001.jpeg',\n",
       " 'NORMAL2-IM-0627-0001.jpeg',\n",
       " 'NORMAL2-IM-0634-0001.jpeg',\n",
       " 'NORMAL2-IM-0640-0001.jpeg',\n",
       " 'NORMAL2-IM-0649-0001.jpeg',\n",
       " 'NORMAL2-IM-0637-0001.jpeg',\n",
       " 'NORMAL2-IM-0642-0001.jpeg',\n",
       " 'NORMAL2-IM-0626-0001.jpeg',\n",
       " 'NORMAL2-IM-0643-0001.jpeg',\n",
       " 'NORMAL2-IM-0629-0001.jpeg',\n",
       " 'NORMAL2-IM-0678-0001.jpeg',\n",
       " 'NORMAL2-IM-0662-0001.jpeg',\n",
       " 'NORMAL2-IM-0659-0001.jpeg',\n",
       " 'NORMAL2-IM-0690-0001.jpeg',\n",
       " 'NORMAL2-IM-0686-0001.jpeg',\n",
       " 'NORMAL2-IM-0673-0001.jpeg',\n",
       " 'NORMAL2-IM-0671-0001.jpeg',\n",
       " 'NORMAL2-IM-0657-0001.jpeg',\n",
       " 'NORMAL2-IM-0669-0001.jpeg',\n",
       " 'NORMAL2-IM-0684-0001-0001.jpeg',\n",
       " 'NORMAL2-IM-0692-0001.jpeg',\n",
       " 'NORMAL2-IM-0667-0001.jpeg',\n",
       " 'NORMAL2-IM-0682-0001.jpeg',\n",
       " 'NORMAL2-IM-0664-0001.jpeg',\n",
       " 'NORMAL2-IM-0683-0001.jpeg',\n",
       " 'NORMAL2-IM-0689-0001.jpeg',\n",
       " 'NORMAL2-IM-0666-0001.jpeg',\n",
       " 'NORMAL2-IM-0663-0001.jpeg',\n",
       " 'NORMAL2-IM-0680-0001.jpeg',\n",
       " 'NORMAL2-IM-0665-0001.jpeg',\n",
       " 'NORMAL2-IM-0660-0001.jpeg',\n",
       " 'NORMAL2-IM-0668-0001.jpeg',\n",
       " 'NORMAL2-IM-0675-0001.jpeg',\n",
       " 'NORMAL2-IM-0672-0001.jpeg',\n",
       " 'NORMAL2-IM-0661-0001.jpeg',\n",
       " 'NORMAL2-IM-0687-0001.jpeg',\n",
       " 'NORMAL2-IM-0765-0001.jpeg',\n",
       " 'NORMAL2-IM-0753-0001.jpeg',\n",
       " 'NORMAL2-IM-0702-0001.jpeg',\n",
       " 'NORMAL2-IM-0746-0001.jpeg',\n",
       " 'NORMAL2-IM-0698-0001.jpeg',\n",
       " 'NORMAL2-IM-0757-0001.jpeg',\n",
       " 'NORMAL2-IM-0699-0001.jpeg',\n",
       " 'NORMAL2-IM-0741-0001.jpeg',\n",
       " 'NORMAL2-IM-0696-0001.jpeg',\n",
       " 'NORMAL2-IM-0718-0001.jpeg',\n",
       " 'NORMAL2-IM-0725-0001.jpeg',\n",
       " 'NORMAL2-IM-0776-0001.jpeg',\n",
       " 'NORMAL2-IM-0694-0001.jpeg',\n",
       " 'NORMAL2-IM-0744-0001.jpeg',\n",
       " 'NORMAL2-IM-0775-0001.jpeg',\n",
       " 'NORMAL2-IM-0693-0001.jpeg',\n",
       " 'NORMAL2-IM-0774-0001.jpeg',\n",
       " 'NORMAL2-IM-0727-0001.jpeg',\n",
       " 'NORMAL2-IM-0695-0001.jpeg',\n",
       " 'NORMAL2-IM-0723-0001.jpeg',\n",
       " 'NORMAL2-IM-0772-0001.jpeg',\n",
       " 'NORMAL2-IM-0730-0001.jpeg',\n",
       " 'NORMAL2-IM-0749-0001.jpeg',\n",
       " 'NORMAL2-IM-0705-0001.jpeg',\n",
       " 'NORMAL2-IM-0707-0001.jpeg',\n",
       " 'NORMAL2-IM-0771-0001.jpeg',\n",
       " 'NORMAL2-IM-0700-0001.jpeg',\n",
       " 'NORMAL2-IM-0736-0001.jpeg',\n",
       " 'NORMAL2-IM-0719-0001.jpeg',\n",
       " 'NORMAL2-IM-0820-0001.jpeg',\n",
       " 'NORMAL2-IM-0796-0001.jpeg',\n",
       " 'NORMAL2-IM-0814-0001.jpeg',\n",
       " 'NORMAL2-IM-0793-0001.jpeg',\n",
       " 'NORMAL2-IM-0812-0001.jpeg',\n",
       " 'NORMAL2-IM-0804-0001.jpeg',\n",
       " 'NORMAL2-IM-0818-0001.jpeg',\n",
       " 'NORMAL2-IM-0810-0001.jpeg',\n",
       " 'NORMAL2-IM-0821-0001.jpeg',\n",
       " 'NORMAL2-IM-0807-0001.jpeg',\n",
       " 'NORMAL2-IM-0803-0001.jpeg',\n",
       " 'NORMAL2-IM-0806-0001.jpeg',\n",
       " 'NORMAL2-IM-0811-0001.jpeg',\n",
       " 'NORMAL2-IM-0798-0001.jpeg',\n",
       " 'NORMAL2-IM-0818-0001-0002.jpeg',\n",
       " 'NORMAL2-IM-0799-0001.jpeg',\n",
       " 'NORMAL2-IM-0790-0001.jpeg',\n",
       " 'NORMAL2-IM-0777-0001.jpeg',\n",
       " 'NORMAL2-IM-0797-0001.jpeg',\n",
       " 'NORMAL2-IM-0815-0001.jpeg',\n",
       " 'NORMAL2-IM-0780-0001.jpeg',\n",
       " 'NORMAL2-IM-0781-0001.jpeg',\n",
       " 'NORMAL2-IM-0816-0001.jpeg',\n",
       " 'NORMAL2-IM-0809-0001.jpeg',\n",
       " 'NORMAL2-IM-0819-0001.jpeg',\n",
       " 'NORMAL2-IM-0808-0001.jpeg',\n",
       " 'NORMAL2-IM-0838-0001.jpeg',\n",
       " 'NORMAL2-IM-0843-0001.jpeg',\n",
       " 'NORMAL2-IM-0842-0001.jpeg',\n",
       " 'NORMAL2-IM-0831-0001.jpeg',\n",
       " 'NORMAL2-IM-0834-0001.jpeg',\n",
       " 'NORMAL2-IM-0841-0001.jpeg',\n",
       " 'NORMAL2-IM-0839-0001.jpeg',\n",
       " 'NORMAL2-IM-0845-0001.jpeg',\n",
       " 'NORMAL2-IM-0824-0001.jpeg',\n",
       " 'NORMAL2-IM-0833-0001.jpeg',\n",
       " 'NORMAL2-IM-0825-0001.jpeg',\n",
       " 'NORMAL2-IM-0832-0001.jpeg',\n",
       " 'NORMAL2-IM-0846-0001.jpeg',\n",
       " 'NORMAL2-IM-0829-0001.jpeg',\n",
       " 'NORMAL2-IM-0830-0001.jpeg',\n",
       " 'NORMAL2-IM-0822-0001.jpeg',\n",
       " 'NORMAL2-IM-0840-0001.jpeg',\n",
       " 'NORMAL2-IM-0827-0001.jpeg',\n",
       " 'NORMAL2-IM-0836-0001.jpeg',\n",
       " 'NORMAL2-IM-0837-0001.jpeg',\n",
       " 'NORMAL2-IM-0826-0001.jpeg',\n",
       " 'NORMAL2-IM-0832-0001-0001.jpeg',\n",
       " 'NORMAL2-IM-0828-0001.jpeg',\n",
       " 'NORMAL2-IM-0832-0001-0002.jpeg',\n",
       " 'NORMAL2-IM-0851-0001-0001.jpeg',\n",
       " 'NORMAL2-IM-0854-0001.jpeg',\n",
       " 'NORMAL2-IM-0862-0001.jpeg',\n",
       " 'NORMAL2-IM-0852-0001.jpeg',\n",
       " 'NORMAL2-IM-0851-0001.jpeg',\n",
       " 'NORMAL2-IM-0859-0001.jpeg',\n",
       " 'NORMAL2-IM-0870-0001.jpeg',\n",
       " 'NORMAL2-IM-0856-0001.jpeg',\n",
       " 'NORMAL2-IM-0851-0001-0002.jpeg',\n",
       " 'NORMAL2-IM-0865-0001.jpeg',\n",
       " 'NORMAL2-IM-0849-0001.jpeg',\n",
       " 'NORMAL2-IM-0858-0001.jpeg',\n",
       " 'NORMAL2-IM-0873-0001.jpeg',\n",
       " 'NORMAL2-IM-0868-0001.jpeg',\n",
       " 'NORMAL2-IM-0871-0001.jpeg',\n",
       " 'NORMAL2-IM-0863-0001.jpeg',\n",
       " 'NORMAL2-IM-0847-0001.jpeg',\n",
       " 'NORMAL2-IM-0874-0001.jpeg',\n",
       " 'NORMAL2-IM-0860-0001.jpeg',\n",
       " 'NORMAL2-IM-0869-0001.jpeg',\n",
       " 'NORMAL2-IM-0866-0001.jpeg',\n",
       " 'NORMAL2-IM-0872-0001.jpeg',\n",
       " 'NORMAL2-IM-0867-0001.jpeg',\n",
       " 'NORMAL2-IM-0855-0001.jpeg',\n",
       " 'NORMAL2-IM-0857-0001.jpeg',\n",
       " 'NORMAL2-IM-0848-0001.jpeg',\n",
       " 'NORMAL2-IM-0853-0001.jpeg',\n",
       " 'NORMAL2-IM-0875-0001.jpeg',\n",
       " 'NORMAL2-IM-0876-0001.jpeg',\n",
       " 'NORMAL2-IM-0879-0001.jpeg',\n",
       " 'NORMAL2-IM-0893-0001.jpeg',\n",
       " 'NORMAL2-IM-0898-0001.jpeg',\n",
       " 'NORMAL2-IM-0880-0001.jpeg',\n",
       " 'NORMAL2-IM-0899-0001.jpeg',\n",
       " 'NORMAL2-IM-0900-0001.jpeg',\n",
       " 'NORMAL2-IM-0903-0001.jpeg',\n",
       " 'NORMAL2-IM-0881-0001.jpeg',\n",
       " 'NORMAL2-IM-0882-0001.jpeg',\n",
       " 'NORMAL2-IM-0890-0001.jpeg',\n",
       " 'NORMAL2-IM-0904-0001.jpeg',\n",
       " 'NORMAL2-IM-0895-0001.jpeg',\n",
       " 'NORMAL2-IM-0886-0001.jpeg',\n",
       " 'NORMAL2-IM-0888-0001.jpeg',\n",
       " 'NORMAL2-IM-0892-0001.jpeg',\n",
       " 'NORMAL2-IM-0897-0001.jpeg',\n",
       " 'NORMAL2-IM-0887-0001.jpeg',\n",
       " 'NORMAL2-IM-0896-0001.jpeg',\n",
       " 'NORMAL2-IM-0877-0001.jpeg',\n",
       " 'NORMAL2-IM-0885-0001.jpeg',\n",
       " 'NORMAL2-IM-0894-0001.jpeg',\n",
       " 'NORMAL2-IM-0909-0001.jpeg',\n",
       " 'NORMAL2-IM-0910-0001.jpeg',\n",
       " 'NORMAL2-IM-0912-0001.jpeg',\n",
       " 'NORMAL2-IM-0917-0001.jpeg',\n",
       " 'NORMAL2-IM-0923-0001.jpeg',\n",
       " 'NORMAL2-IM-0926-0001.jpeg',\n",
       " 'NORMAL2-IM-0915-0001.jpeg',\n",
       " 'NORMAL2-IM-0922-0001.jpeg',\n",
       " 'NORMAL2-IM-0913-0001.jpeg',\n",
       " 'NORMAL2-IM-0908-0001.jpeg',\n",
       " 'NORMAL2-IM-0931-0001.jpeg',\n",
       " 'NORMAL2-IM-0919-0001.jpeg',\n",
       " 'NORMAL2-IM-0925-0001.jpeg',\n",
       " 'NORMAL2-IM-0911-0001.jpeg',\n",
       " 'NORMAL2-IM-0907-0001.jpeg',\n",
       " 'NORMAL2-IM-0927-0001.jpeg',\n",
       " 'NORMAL2-IM-0930-0001.jpeg',\n",
       " 'NORMAL2-IM-0924-0001.jpeg',\n",
       " 'NORMAL2-IM-0914-0001.jpeg',\n",
       " 'NORMAL2-IM-0905-0001.jpeg',\n",
       " 'NORMAL2-IM-0929-0001.jpeg',\n",
       " 'NORMAL2-IM-0906-0001.jpeg',\n",
       " 'NORMAL2-IM-0918-0001.jpeg',\n",
       " 'NORMAL2-IM-0932-0001.jpeg',\n",
       " 'NORMAL2-IM-0942-0001.jpeg',\n",
       " 'NORMAL2-IM-0945-0001.jpeg',\n",
       " 'NORMAL2-IM-0954-0001.jpeg',\n",
       " 'NORMAL2-IM-0957-0001.jpeg',\n",
       " 'NORMAL2-IM-0936-0001.jpeg',\n",
       " 'NORMAL2-IM-0946-0001.jpeg',\n",
       " 'NORMAL2-IM-0935-0001.jpeg',\n",
       " 'NORMAL2-IM-0937-0001.jpeg',\n",
       " 'NORMAL2-IM-0948-0001.jpeg',\n",
       " 'NORMAL2-IM-0933-0001.jpeg',\n",
       " 'NORMAL2-IM-0955-0001.jpeg',\n",
       " 'NORMAL2-IM-0934-0001.jpeg',\n",
       " 'NORMAL2-IM-0939-0001.jpeg',\n",
       " 'NORMAL2-IM-0952-0001.jpeg',\n",
       " 'NORMAL2-IM-0950-0001.jpeg',\n",
       " 'NORMAL2-IM-0949-0001.jpeg',\n",
       " 'NORMAL2-IM-0947-0001.jpeg',\n",
       " 'NORMAL2-IM-0956-0001.jpeg',\n",
       " 'NORMAL2-IM-0951-0001.jpeg',\n",
       " 'NORMAL2-IM-0944-0001.jpeg',\n",
       " 'NORMAL2-IM-0941-0001.jpeg',\n",
       " 'NORMAL2-IM-0977-0001.jpeg',\n",
       " 'NORMAL2-IM-0978-0001.jpeg',\n",
       " 'NORMAL2-IM-0969-0001.jpeg',\n",
       " 'NORMAL2-IM-0983-0001.jpeg',\n",
       " 'NORMAL2-IM-0979-0001.jpeg',\n",
       " 'NORMAL2-IM-0975-0001.jpeg',\n",
       " 'NORMAL2-IM-0988-0001.jpeg',\n",
       " 'NORMAL2-IM-0983-0001-0002.jpeg',\n",
       " 'NORMAL2-IM-0974-0001.jpeg',\n",
       " 'NORMAL2-IM-0962-0001.jpeg',\n",
       " 'NORMAL2-IM-0980-0001.jpeg',\n",
       " 'NORMAL2-IM-0959-0001.jpeg',\n",
       " 'NORMAL2-IM-0966-0001.jpeg',\n",
       " 'NORMAL2-IM-0986-0001.jpeg',\n",
       " 'NORMAL2-IM-0993-0001.jpeg',\n",
       " 'NORMAL2-IM-0981-0001.jpeg',\n",
       " 'NORMAL2-IM-0987-0001.jpeg',\n",
       " 'NORMAL2-IM-0961-0001.jpeg',\n",
       " 'NORMAL2-IM-0976-0001.jpeg',\n",
       " 'NORMAL2-IM-0989-0001.jpeg',\n",
       " 'NORMAL2-IM-0970-0001.jpeg',\n",
       " 'NORMAL2-IM-0983-0001-0001.jpeg',\n",
       " 'NORMAL2-IM-0994-0001.jpeg',\n",
       " 'NORMAL2-IM-0971-0001-0002.jpeg',\n",
       " 'NORMAL2-IM-0965-0001.jpeg',\n",
       " 'NORMAL2-IM-0971-0001-0001.jpeg',\n",
       " 'NORMAL2-IM-0992-0001.jpeg',\n",
       " 'NORMAL2-IM-0960-0001.jpeg',\n",
       " 'NORMAL2-IM-0967-0001.jpeg',\n",
       " 'NORMAL2-IM-0997-0001.jpeg',\n",
       " 'NORMAL2-IM-1022-0001.jpeg',\n",
       " 'NORMAL2-IM-1024-0001.jpeg',\n",
       " 'NORMAL2-IM-1004-0001.jpeg',\n",
       " 'NORMAL2-IM-0998-0001.jpeg',\n",
       " 'NORMAL2-IM-1020-0001-0002.jpeg',\n",
       " 'NORMAL2-IM-1015-0001.jpeg',\n",
       " 'NORMAL2-IM-0995-0001-0002.jpeg',\n",
       " 'NORMAL2-IM-1026-0001.jpeg',\n",
       " 'NORMAL2-IM-0999-0001.jpeg',\n",
       " 'NORMAL2-IM-1028-0001.jpeg',\n",
       " 'NORMAL2-IM-1025-0001.jpeg',\n",
       " 'NORMAL2-IM-1002-0001.jpeg',\n",
       " 'NORMAL2-IM-1016-0001.jpeg',\n",
       " 'NORMAL2-IM-1019-0001.jpeg',\n",
       " 'NORMAL2-IM-1011-0001.jpeg',\n",
       " 'NORMAL2-IM-1001-0001.jpeg',\n",
       " 'NORMAL2-IM-1018-0001.jpeg',\n",
       " 'NORMAL2-IM-1008-0001.jpeg',\n",
       " 'NORMAL2-IM-0995-0001-0001.jpeg',\n",
       " 'NORMAL2-IM-1005-0001.jpeg',\n",
       " 'NORMAL2-IM-1027-0001.jpeg',\n",
       " 'NORMAL2-IM-1006-0001.jpeg',\n",
       " 'NORMAL2-IM-1017-0001.jpeg',\n",
       " 'NORMAL2-IM-1020-0001.jpeg',\n",
       " 'NORMAL2-IM-1010-0001.jpeg',\n",
       " 'NORMAL2-IM-1020-0001-0001.jpeg',\n",
       " 'NORMAL2-IM-0995-0001.jpeg',\n",
       " 'NORMAL2-IM-1014-0001.jpeg',\n",
       " 'NORMAL2-IM-1023-0001.jpeg',\n",
       " 'NORMAL2-IM-1056-0001.jpeg',\n",
       " 'NORMAL2-IM-1037-0001.jpeg',\n",
       " 'NORMAL2-IM-1050-0001.jpeg',\n",
       " 'NORMAL2-IM-1033-0001.jpeg',\n",
       " 'NORMAL2-IM-1051-0001.jpeg',\n",
       " 'NORMAL2-IM-1038-0001.jpeg',\n",
       " 'NORMAL2-IM-1044-0001.jpeg',\n",
       " 'NORMAL2-IM-1043-0001.jpeg',\n",
       " 'NORMAL2-IM-1035-0001.jpeg',\n",
       " 'NORMAL2-IM-1047-0001.jpeg',\n",
       " 'NORMAL2-IM-1055-0001.jpeg',\n",
       " 'NORMAL2-IM-1030-0001.jpeg',\n",
       " 'NORMAL2-IM-1058-0001.jpeg',\n",
       " 'NORMAL2-IM-1048-0001.jpeg',\n",
       " 'NORMAL2-IM-1039-0001.jpeg',\n",
       " 'NORMAL2-IM-1045-0001.jpeg',\n",
       " 'NORMAL2-IM-1040-0001.jpeg',\n",
       " 'NORMAL2-IM-1046-0001.jpeg',\n",
       " 'NORMAL2-IM-1054-0001.jpeg',\n",
       " 'NORMAL2-IM-1052-0001.jpeg',\n",
       " 'NORMAL2-IM-1053-0001.jpeg',\n",
       " 'NORMAL2-IM-1049-0001.jpeg',\n",
       " 'NORMAL2-IM-1041-0001.jpeg',\n",
       " 'NORMAL2-IM-1059-0001.jpeg',\n",
       " 'NORMAL2-IM-1064-0001.jpeg',\n",
       " 'NORMAL2-IM-1062-0001.jpeg',\n",
       " 'NORMAL2-IM-1067-0001.jpeg',\n",
       " 'NORMAL2-IM-1098-0001.jpeg',\n",
       " 'NORMAL2-IM-1094-0001-0001.jpeg',\n",
       " 'NORMAL2-IM-1084-0001.jpeg',\n",
       " 'NORMAL2-IM-1060-0001.jpeg',\n",
       " 'NORMAL2-IM-1108-0001.jpeg',\n",
       " 'NORMAL2-IM-1088-0001.jpeg',\n",
       " 'NORMAL2-IM-1102-0001-0001.jpeg',\n",
       " 'NORMAL2-IM-1090-0001.jpeg',\n",
       " 'NORMAL2-IM-1104-0001.jpeg',\n",
       " 'NORMAL2-IM-1093-0001.jpeg',\n",
       " 'NORMAL2-IM-1073-0001.jpeg',\n",
       " 'NORMAL2-IM-1106-0001.jpeg',\n",
       " 'NORMAL2-IM-1094-0001.jpeg',\n",
       " 'NORMAL2-IM-1103-0001-0001.jpeg',\n",
       " 'NORMAL2-IM-1102-0001-0002.jpeg',\n",
       " 'NORMAL2-IM-1091-0001.jpeg',\n",
       " 'NORMAL2-IM-1105-0001.jpeg',\n",
       " 'NORMAL2-IM-1096-0001-0003.jpeg',\n",
       " 'NORMAL2-IM-1102-0001.jpeg',\n",
       " 'NORMAL2-IM-1086-0001.jpeg',\n",
       " 'NORMAL2-IM-1094-0001-0002.jpeg',\n",
       " 'NORMAL2-IM-1100-0001.jpeg',\n",
       " 'NORMAL2-IM-1096-0001.jpeg',\n",
       " 'NORMAL2-IM-1096-0001-0001.jpeg',\n",
       " 'NORMAL2-IM-1089-0001.jpeg',\n",
       " 'NORMAL2-IM-1067-0001-0001.jpeg',\n",
       " 'NORMAL2-IM-1113-0001.jpeg',\n",
       " 'NORMAL2-IM-1116-0001-0002.jpeg',\n",
       " 'NORMAL2-IM-1132-0001.jpeg',\n",
       " 'NORMAL2-IM-1127-0001.jpeg',\n",
       " 'NORMAL2-IM-1116-0001-0001.jpeg',\n",
       " 'NORMAL2-IM-1112-0001.jpeg',\n",
       " 'NORMAL2-IM-1110-0001.jpeg',\n",
       " 'NORMAL2-IM-1124-0001.jpeg',\n",
       " 'NORMAL2-IM-1123-0001.jpeg',\n",
       " 'NORMAL2-IM-1134-0001.jpeg',\n",
       " 'NORMAL2-IM-1125-0001.jpeg',\n",
       " 'NORMAL2-IM-1118-0001.jpeg',\n",
       " 'NORMAL2-IM-1109-0001.jpeg',\n",
       " 'NORMAL2-IM-1111-0001.jpeg',\n",
       " 'NORMAL2-IM-1122-0001.jpeg',\n",
       " 'NORMAL2-IM-1114-0001.jpeg',\n",
       " 'NORMAL2-IM-1117-0001.jpeg',\n",
       " 'NORMAL2-IM-1130-0001.jpeg',\n",
       " 'NORMAL2-IM-1116-0001.jpeg',\n",
       " 'NORMAL2-IM-1128-0001-0002.jpeg',\n",
       " 'NORMAL2-IM-1131-0001.jpeg',\n",
       " 'NORMAL2-IM-1120-0001.jpeg',\n",
       " 'NORMAL2-IM-1128-0001-0001.jpeg',\n",
       " 'NORMAL2-IM-1126-0001.jpeg',\n",
       " 'NORMAL2-IM-1128-0001.jpeg',\n",
       " 'NORMAL2-IM-1152-0001-0002.jpeg',\n",
       " 'NORMAL2-IM-1142-0001.jpeg',\n",
       " 'NORMAL2-IM-1150-0001.jpeg',\n",
       " 'NORMAL2-IM-1138-0001.jpeg',\n",
       " 'NORMAL2-IM-1153-0001.jpeg',\n",
       " 'NORMAL2-IM-1152-0001.jpeg',\n",
       " 'NORMAL2-IM-1148-0001.jpeg',\n",
       " 'NORMAL2-IM-1141-0001.jpeg',\n",
       " 'NORMAL2-IM-1151-0001.jpeg',\n",
       " 'NORMAL2-IM-1154-0001-0001.jpeg',\n",
       " 'NORMAL2-IM-1145-0001.jpeg',\n",
       " 'NORMAL2-IM-1155-0001.jpeg',\n",
       " 'NORMAL2-IM-1158-0001.jpeg',\n",
       " 'NORMAL2-IM-1149-0001.jpeg',\n",
       " 'NORMAL2-IM-1154-0001.jpeg',\n",
       " 'NORMAL2-IM-1136-0001.jpeg',\n",
       " 'NORMAL2-IM-1142-0001-0002.jpeg',\n",
       " 'NORMAL2-IM-1142-0001-0001.jpeg',\n",
       " 'NORMAL2-IM-1152-0001-0001.jpeg',\n",
       " 'NORMAL2-IM-1156-0001.jpeg',\n",
       " 'NORMAL2-IM-1154-0001-0002.jpeg',\n",
       " 'NORMAL2-IM-1161-0001.jpeg',\n",
       " 'NORMAL2-IM-1160-0001.jpeg',\n",
       " 'NORMAL2-IM-1147-0001.jpeg',\n",
       " 'NORMAL2-IM-1135-0001.jpeg',\n",
       " 'NORMAL2-IM-1144-0001.jpeg',\n",
       " 'NORMAL2-IM-1157-0001.jpeg',\n",
       " 'NORMAL2-IM-1187-0001.jpeg',\n",
       " 'NORMAL2-IM-1188-0001.jpeg',\n",
       " 'NORMAL2-IM-1177-0001.jpeg',\n",
       " 'NORMAL2-IM-1173-0001.jpeg',\n",
       " 'NORMAL2-IM-1182-0001.jpeg',\n",
       " 'NORMAL2-IM-1162-0001.jpeg',\n",
       " 'NORMAL2-IM-1189-0001.jpeg',\n",
       " 'NORMAL2-IM-1167-0001.jpeg',\n",
       " 'NORMAL2-IM-1170-0001.jpeg',\n",
       " 'NORMAL2-IM-1184-0001.jpeg',\n",
       " 'NORMAL2-IM-1168-0001.jpeg',\n",
       " 'NORMAL2-IM-1169-0001.jpeg',\n",
       " 'NORMAL2-IM-1178-0001.jpeg',\n",
       " 'NORMAL2-IM-1163-0001.jpeg',\n",
       " 'NORMAL2-IM-1179-0001.jpeg',\n",
       " 'NORMAL2-IM-1180-0001.jpeg',\n",
       " 'NORMAL2-IM-1185-0001.jpeg',\n",
       " 'NORMAL2-IM-1171-0001.jpeg',\n",
       " 'NORMAL2-IM-1175-0001.jpeg',\n",
       " 'NORMAL2-IM-1190-0001.jpeg',\n",
       " 'NORMAL2-IM-1176-0001.jpeg',\n",
       " 'NORMAL2-IM-1183-0001.jpeg',\n",
       " 'NORMAL2-IM-1181-0001.jpeg',\n",
       " 'NORMAL2-IM-1174-0001.jpeg',\n",
       " 'NORMAL2-IM-1164-0001.jpeg',\n",
       " 'NORMAL2-IM-1231-0001.jpeg',\n",
       " 'NORMAL2-IM-1223-0001.jpeg',\n",
       " 'NORMAL2-IM-1197-0001.jpeg',\n",
       " 'NORMAL2-IM-1196-0001.jpeg',\n",
       " 'NORMAL2-IM-1218-0001.jpeg',\n",
       " 'NORMAL2-IM-1201-0001.jpeg',\n",
       " 'NORMAL2-IM-1227-0001.jpeg',\n",
       " 'NORMAL2-IM-1228-0001.jpeg',\n",
       " 'NORMAL2-IM-1194-0001.jpeg',\n",
       " 'NORMAL2-IM-1202-0001.jpeg',\n",
       " 'NORMAL2-IM-1226-0001.jpeg',\n",
       " 'NORMAL2-IM-1203-0001.jpeg',\n",
       " 'NORMAL2-IM-1220-0001.jpeg',\n",
       " 'NORMAL2-IM-1200-0001.jpeg',\n",
       " 'NORMAL2-IM-1214-0001.jpeg',\n",
       " 'NORMAL2-IM-1221-0001.jpeg',\n",
       " 'NORMAL2-IM-1192-0001.jpeg',\n",
       " 'NORMAL2-IM-1222-0001.jpeg',\n",
       " 'NORMAL2-IM-1206-0001.jpeg',\n",
       " 'NORMAL2-IM-1204-0001.jpeg',\n",
       " 'NORMAL2-IM-1224-0001.jpeg',\n",
       " 'NORMAL2-IM-1205-0001.jpeg',\n",
       " 'NORMAL2-IM-1191-0001.jpeg',\n",
       " 'NORMAL2-IM-1198-0001.jpeg',\n",
       " 'NORMAL2-IM-1219-0001.jpeg',\n",
       " 'NORMAL2-IM-1225-0001.jpeg',\n",
       " 'NORMAL2-IM-1209-0001.jpeg',\n",
       " 'NORMAL2-IM-1258-0001.jpeg',\n",
       " 'NORMAL2-IM-1266-0001-0001.jpeg',\n",
       " 'NORMAL2-IM-1240-0001.jpeg',\n",
       " 'NORMAL2-IM-1232-0001.jpeg',\n",
       " 'NORMAL2-IM-1244-0001.jpeg',\n",
       " 'NORMAL2-IM-1267-0001.jpeg',\n",
       " 'NORMAL2-IM-1266-0001-0002.jpeg',\n",
       " 'NORMAL2-IM-1264-0001.jpeg',\n",
       " 'NORMAL2-IM-1260-0001.jpeg',\n",
       " 'NORMAL2-IM-1250-0001.jpeg',\n",
       " 'NORMAL2-IM-1236-0001.jpeg',\n",
       " 'NORMAL2-IM-1261-0001.jpeg',\n",
       " 'NORMAL2-IM-1258-0001-0002.jpeg',\n",
       " 'NORMAL2-IM-1258-0001-0001.jpeg',\n",
       " 'NORMAL2-IM-1234-0001.jpeg',\n",
       " 'NORMAL2-IM-1245-0001.jpeg',\n",
       " 'NORMAL2-IM-1253-0001.jpeg',\n",
       " 'NORMAL2-IM-1256-0001.jpeg',\n",
       " 'NORMAL2-IM-1252-0001.jpeg',\n",
       " 'NORMAL2-IM-1247-0001.jpeg',\n",
       " 'NORMAL2-IM-1241-0001.jpeg',\n",
       " 'NORMAL2-IM-1269-0001.jpeg',\n",
       " 'NORMAL2-IM-1242-0001.jpeg',\n",
       " 'NORMAL2-IM-1262-0001.jpeg',\n",
       " 'NORMAL2-IM-1266-0001.jpeg',\n",
       " 'NORMAL2-IM-1243-0001.jpeg',\n",
       " 'NORMAL2-IM-1269-0001-0001.jpeg',\n",
       " 'NORMAL2-IM-1237-0001.jpeg',\n",
       " 'NORMAL2-IM-1269-0001-0002.jpeg',\n",
       " 'NORMAL2-IM-1257-0001.jpeg',\n",
       " 'NORMAL2-IM-1254-0001.jpeg',\n",
       " 'NORMAL2-IM-1292-0001.jpeg',\n",
       " 'NORMAL2-IM-1293-0001.jpeg',\n",
       " 'NORMAL2-IM-1271-0001.jpeg',\n",
       " 'NORMAL2-IM-1275-0001.jpeg',\n",
       " 'NORMAL2-IM-1278-0001.jpeg',\n",
       " 'NORMAL2-IM-1294-0001-0001.jpeg',\n",
       " 'NORMAL2-IM-1288-0001.jpeg',\n",
       " 'NORMAL2-IM-1282-0001.jpeg',\n",
       " 'NORMAL2-IM-1274-0001.jpeg',\n",
       " 'NORMAL2-IM-1277-0001-0002.jpeg',\n",
       " 'NORMAL2-IM-1281-0001.jpeg',\n",
       " 'NORMAL2-IM-1277-0001-0001.jpeg',\n",
       " 'NORMAL2-IM-1285-0001.jpeg',\n",
       " 'NORMAL2-IM-1279-0001.jpeg',\n",
       " 'NORMAL2-IM-1286-0001.jpeg',\n",
       " 'NORMAL2-IM-1273-0001.jpeg',\n",
       " 'NORMAL2-IM-1287-0001.jpeg',\n",
       " 'NORMAL2-IM-1280-0001.jpeg',\n",
       " 'NORMAL2-IM-1291-0001.jpeg',\n",
       " 'NORMAL2-IM-1277-0001.jpeg',\n",
       " 'NORMAL2-IM-1290-0001.jpeg',\n",
       " 'NORMAL2-IM-1276-0001.jpeg',\n",
       " 'NORMAL2-IM-1270-0001.jpeg',\n",
       " 'NORMAL2-IM-1272-0001.jpeg',\n",
       " 'NORMAL2-IM-1289-0001.jpeg',\n",
       " 'NORMAL2-IM-1311-0001.jpeg',\n",
       " 'NORMAL2-IM-1319-0001.jpeg',\n",
       " 'NORMAL2-IM-1300-0001.jpeg',\n",
       " 'NORMAL2-IM-1318-0001.jpeg',\n",
       " 'NORMAL2-IM-1320-0001.jpeg',\n",
       " 'NORMAL2-IM-1305-0001.jpeg',\n",
       " 'NORMAL2-IM-1310-0001.jpeg',\n",
       " 'NORMAL2-IM-1306-0001.jpeg',\n",
       " 'NORMAL2-IM-1295-0001.jpeg',\n",
       " 'NORMAL2-IM-1307-0001.jpeg',\n",
       " 'NORMAL2-IM-1303-0001.jpeg',\n",
       " 'NORMAL2-IM-1317-0001.jpeg',\n",
       " 'NORMAL2-IM-1316-0001.jpeg',\n",
       " 'NORMAL2-IM-1308-0001.jpeg',\n",
       " 'NORMAL2-IM-1301-0001.jpeg',\n",
       " 'NORMAL2-IM-1302-0001.jpeg',\n",
       " 'NORMAL2-IM-1296-0001.jpeg',\n",
       " 'NORMAL2-IM-1314-0001.jpeg',\n",
       " 'NORMAL2-IM-1294-0001.jpeg',\n",
       " 'NORMAL2-IM-1321-0001.jpeg',\n",
       " 'NORMAL2-IM-1294-0001-0002.jpeg',\n",
       " 'NORMAL2-IM-1304-0001.jpeg',\n",
       " 'NORMAL2-IM-1315-0001.jpeg',\n",
       " 'NORMAL2-IM-1344-0001.jpeg',\n",
       " 'NORMAL2-IM-1334-0001.jpeg',\n",
       " 'NORMAL2-IM-1322-0001.jpeg',\n",
       " 'NORMAL2-IM-1349-0001.jpeg',\n",
       " 'NORMAL2-IM-1337-0001.jpeg',\n",
       " 'NORMAL2-IM-1345-0001-0001.jpeg',\n",
       " 'NORMAL2-IM-1356-0001.jpeg',\n",
       " 'NORMAL2-IM-1329-0001.jpeg',\n",
       " 'NORMAL2-IM-1327-0001.jpeg',\n",
       " 'NORMAL2-IM-1330-0001.jpeg',\n",
       " 'NORMAL2-IM-1332-0001.jpeg',\n",
       " 'NORMAL2-IM-1351-0001.jpeg',\n",
       " 'NORMAL2-IM-1345-0001.jpeg',\n",
       " 'NORMAL2-IM-1338-0001.jpeg',\n",
       " 'NORMAL2-IM-1333-0001.jpeg',\n",
       " 'NORMAL2-IM-1345-0001-0002.jpeg',\n",
       " 'NORMAL2-IM-1341-0001.jpeg',\n",
       " 'NORMAL2-IM-1336-0001.jpeg',\n",
       " 'NORMAL2-IM-1323-0001.jpeg',\n",
       " 'NORMAL2-IM-1328-0001.jpeg',\n",
       " 'NORMAL2-IM-1342-0001.jpeg',\n",
       " 'NORMAL2-IM-1347-0001.jpeg',\n",
       " 'NORMAL2-IM-1343-0001.jpeg',\n",
       " 'NORMAL2-IM-1335-0001.jpeg',\n",
       " 'NORMAL2-IM-1326-0001.jpeg',\n",
       " 'NORMAL2-IM-1346-0001.jpeg',\n",
       " 'NORMAL2-IM-1348-0001.jpeg',\n",
       " 'NORMAL2-IM-1350-0001.jpeg',\n",
       " 'NORMAL2-IM-1365-0001.jpeg',\n",
       " 'NORMAL2-IM-1357-0001.jpeg',\n",
       " 'NORMAL2-IM-1400-0001.jpeg',\n",
       " 'NORMAL2-IM-1362-0001.jpeg',\n",
       " 'NORMAL2-IM-1406-0001.jpeg',\n",
       " 'NORMAL2-IM-1419-0001.jpeg',\n",
       " 'NORMAL2-IM-1385-0001.jpeg',\n",
       " 'NORMAL2-IM-1379-0001.jpeg',\n",
       " 'NORMAL2-IM-1423-0001.jpeg',\n",
       " 'NORMAL2-IM-1396-0001.jpeg',\n",
       " 'NORMAL2-IM-1401-0001.jpeg',\n",
       " 'NORMAL2-IM-1360-0001.jpeg',\n",
       " 'NORMAL2-IM-1376-0001.jpeg',\n",
       " 'NORMAL2-IM-1412-0001.jpeg',\n",
       " 'NORMAL2-IM-1422-0001.jpeg',\n",
       " 'NORMAL2-IM-1371-0001.jpeg',\n",
       " ...]"
      ]
     },
     "execution_count": 13,
     "metadata": {},
     "output_type": "execute_result"
    }
   ],
   "source": [
    "os.listdir(normal)"
   ]
  },
  {
   "cell_type": "markdown",
   "metadata": {
    "id": "cFzygnSzk99_"
   },
   "source": [
    "## Checking if the Classes are balanced"
   ]
  },
  {
   "cell_type": "code",
   "execution_count": null,
   "metadata": {
    "colab": {
     "base_uri": "https://localhost:8080/"
    },
    "executionInfo": {
     "elapsed": 7,
     "status": "ok",
     "timestamp": 1629716049989,
     "user": {
      "displayName": "Ahmad Hassan",
      "photoUrl": "https://lh3.googleusercontent.com/a-/AOh14GjivyZWj5GkXWxaN_1rEQX7vl4f0UJ9xojCjxOagw=s64",
      "userId": "15564875757963476455"
     },
     "user_tz": -300
    },
    "id": "YejMhzNglC21",
    "outputId": "92352ad8-bdd9-4590-9bac-37c2d7893a16"
   },
   "outputs": [
    {
     "data": {
      "text/plain": [
       "1341"
      ]
     },
     "execution_count": 14,
     "metadata": {},
     "output_type": "execute_result"
    }
   ],
   "source": [
    "len(os.listdir(normal))"
   ]
  },
  {
   "cell_type": "code",
   "execution_count": null,
   "metadata": {
    "colab": {
     "base_uri": "https://localhost:8080/"
    },
    "executionInfo": {
     "elapsed": 11025,
     "status": "ok",
     "timestamp": 1629716061009,
     "user": {
      "displayName": "Ahmad Hassan",
      "photoUrl": "https://lh3.googleusercontent.com/a-/AOh14GjivyZWj5GkXWxaN_1rEQX7vl4f0UJ9xojCjxOagw=s64",
      "userId": "15564875757963476455"
     },
     "user_tz": -300
    },
    "id": "jUVXgLiBlFb2",
    "outputId": "59699d99-88dc-46fe-96d0-fe598be7e3e7"
   },
   "outputs": [
    {
     "data": {
      "text/plain": [
       "3875"
      ]
     },
     "execution_count": 15,
     "metadata": {},
     "output_type": "execute_result"
    }
   ],
   "source": [
    "len(os.listdir(effected))"
   ]
  },
  {
   "cell_type": "code",
   "execution_count": null,
   "metadata": {
    "id": "sMtzJsVzlImX"
   },
   "outputs": [],
   "source": [
    "#UNBalanced Classes"
   ]
  },
  {
   "cell_type": "code",
   "execution_count": null,
   "metadata": {
    "colab": {
     "base_uri": "https://localhost:8080/"
    },
    "executionInfo": {
     "elapsed": 16,
     "status": "ok",
     "timestamp": 1629716061011,
     "user": {
      "displayName": "Ahmad Hassan",
      "photoUrl": "https://lh3.googleusercontent.com/a-/AOh14GjivyZWj5GkXWxaN_1rEQX7vl4f0UJ9xojCjxOagw=s64",
      "userId": "15564875757963476455"
     },
     "user_tz": -300
    },
    "id": "cu-kfcXY7AfO",
    "outputId": "54d4daef-9daa-4fd4-d5f9-314b26f37f29"
   },
   "outputs": [
    {
     "data": {
      "text/plain": [
       "234"
      ]
     },
     "execution_count": 17,
     "metadata": {},
     "output_type": "execute_result"
    }
   ],
   "source": [
    "len(os.listdir(normalT))"
   ]
  },
  {
   "cell_type": "code",
   "execution_count": null,
   "metadata": {
    "colab": {
     "base_uri": "https://localhost:8080/"
    },
    "executionInfo": {
     "elapsed": 14,
     "status": "ok",
     "timestamp": 1629716061012,
     "user": {
      "displayName": "Ahmad Hassan",
      "photoUrl": "https://lh3.googleusercontent.com/a-/AOh14GjivyZWj5GkXWxaN_1rEQX7vl4f0UJ9xojCjxOagw=s64",
      "userId": "15564875757963476455"
     },
     "user_tz": -300
    },
    "id": "TEs8-iDb7Ahx",
    "outputId": "9886916b-41b8-42dd-b4a2-9369a8ea70c7"
   },
   "outputs": [
    {
     "data": {
      "text/plain": [
       "390"
      ]
     },
     "execution_count": 18,
     "metadata": {},
     "output_type": "execute_result"
    }
   ],
   "source": [
    "len(os.listdir(effectedT))"
   ]
  },
  {
   "cell_type": "markdown",
   "metadata": {
    "id": "UbknG0oWlPsT"
   },
   "source": [
    "## Checking  and Finding Average Dimensions for the Images"
   ]
  },
  {
   "cell_type": "code",
   "execution_count": null,
   "metadata": {
    "id": "CS1U6cFmmsna"
   },
   "outputs": [],
   "source": [
    "from matplotlib.pyplot import  imread"
   ]
  },
  {
   "cell_type": "code",
   "execution_count": null,
   "metadata": {
    "colab": {
     "base_uri": "https://localhost:8080/"
    },
    "executionInfo": {
     "elapsed": 764,
     "status": "ok",
     "timestamp": 1629716061768,
     "user": {
      "displayName": "Ahmad Hassan",
      "photoUrl": "https://lh3.googleusercontent.com/a-/AOh14GjivyZWj5GkXWxaN_1rEQX7vl4f0UJ9xojCjxOagw=s64",
      "userId": "15564875757963476455"
     },
     "user_tz": -300
    },
    "id": "i0k1sxZ78XFE",
    "outputId": "fa386f6f-c3f5-49ca-f586-15173965e63f"
   },
   "outputs": [
    {
     "data": {
      "text/plain": [
       "(800, 1160)"
      ]
     },
     "execution_count": 20,
     "metadata": {},
     "output_type": "execute_result"
    }
   ],
   "source": [
    "g = imread(effected+'/person1922_bacteria_4830.jpeg')\n",
    "g.shape"
   ]
  },
  {
   "cell_type": "code",
   "execution_count": null,
   "metadata": {
    "colab": {
     "base_uri": "https://localhost:8080/",
     "height": 280
    },
    "executionInfo": {
     "elapsed": 1647,
     "status": "ok",
     "timestamp": 1629716063409,
     "user": {
      "displayName": "Ahmad Hassan",
      "photoUrl": "https://lh3.googleusercontent.com/a-/AOh14GjivyZWj5GkXWxaN_1rEQX7vl4f0UJ9xojCjxOagw=s64",
      "userId": "15564875757963476455"
     },
     "user_tz": -300
    },
    "id": "eZNsY6Y2lZ33",
    "outputId": "8f52085b-320c-4f67-bac7-3c401abc49bf"
   },
   "outputs": [
    {
     "data": {
      "text/plain": [
       "<matplotlib.image.AxesImage at 0x7fa53f7312d0>"
      ]
     },
     "execution_count": 21,
     "metadata": {},
     "output_type": "execute_result"
    },
    {
     "data": {
      "image/png": "[encoded data removed]",
      "text/plain": [
       "<Figure size 432x288 with 1 Axes>"
      ]
     },
     "metadata": {
      "needs_background": "light"
     },
     "output_type": "display_data"
    }
   ],
   "source": [
    "plt.imshow(imread(effected+'/person1945_bacteria_4872.jpeg', ))"
   ]
  },
  {
   "cell_type": "code",
   "execution_count": null,
   "metadata": {
    "id": "02tSJ-rClVD2"
   },
   "outputs": [],
   "source": [
    "# Finding Dimesnion Distribution in dataset\n",
    "# dim1 = []\n",
    "# dim2 = []\n",
    "# #Reading each file and putting it in imread\n",
    "# #image imread is getting full path of the images\n",
    "# for image_name in os.listdir(normal):\n",
    "#   image = imread('chest_xray/train/NORMAL/'+image_name)  \n",
    "#   dm1,dm2   =  image.shape   #tuple unpacking shape\n",
    "#   dim1.append(dm1)           #appending diff unpacked dimension in array\n",
    "#   dim2.append(dm2)"
   ]
  },
  {
   "cell_type": "code",
   "execution_count": null,
   "metadata": {
    "id": "Tfy1fjYBnD3L"
   },
   "outputs": [],
   "source": [
    "# np.mean(dim1)"
   ]
  },
  {
   "cell_type": "code",
   "execution_count": null,
   "metadata": {
    "id": "lTaQsFdynGzH"
   },
   "outputs": [],
   "source": [
    "# np.mean(dim2)"
   ]
  },
  {
   "cell_type": "code",
   "execution_count": null,
   "metadata": {
    "id": "pAnrVdceuLWK"
   },
   "outputs": [],
   "source": [
    "#We will be using these means as dimesnsions\n",
    "mean_dim = (150,150,3)"
   ]
  },
  {
   "cell_type": "code",
   "execution_count": null,
   "metadata": {
    "id": "aDmsfZ7ZxM0L"
   },
   "outputs": [],
   "source": [
    "#Plotting Dimsensions\n",
    "# plt.figure(figsize=(8,5))\n",
    "# sns.scatterplot(x=dim1, y=dim2,)"
   ]
  },
  {
   "cell_type": "markdown",
   "metadata": {
    "id": "vuwbqLLEBKqw"
   },
   "source": [
    "**Images dont have grey scale color channel so we will rescale them later**"
   ]
  },
  {
   "cell_type": "markdown",
   "metadata": {
    "id": "uYV8GgQ3yYci"
   },
   "source": [
    "## Scaling"
   ]
  },
  {
   "cell_type": "code",
   "execution_count": null,
   "metadata": {
    "colab": {
     "base_uri": "https://localhost:8080/"
    },
    "executionInfo": {
     "elapsed": 23,
     "status": "ok",
     "timestamp": 1629716063413,
     "user": {
      "displayName": "Ahmad Hassan",
      "photoUrl": "https://lh3.googleusercontent.com/a-/AOh14GjivyZWj5GkXWxaN_1rEQX7vl4f0UJ9xojCjxOagw=s64",
      "userId": "15564875757963476455"
     },
     "user_tz": -300
    },
    "id": "gRFAbPdSxcWm",
    "outputId": "123760d8-6fa0-4cc8-cb3b-f1cd61bda9b7"
   },
   "outputs": [
    {
     "data": {
      "text/plain": [
       "array([[  2,   2,   2, ...,  32,  32,  32],\n",
       "       [  2,   2,   2, ...,  32,  32,  32],\n",
       "       [  2,   2,   2, ...,  32,  32,  32],\n",
       "       ...,\n",
       "       [ 14,  30,   0, ...,   6,  17,  15],\n",
       "       [253, 234, 255, ..., 255, 230, 253],\n",
       "       [  0,  10,   0, ...,   0,  14,   0]], dtype=uint8)"
      ]
     },
     "execution_count": 27,
     "metadata": {},
     "output_type": "execute_result"
    }
   ],
   "source": [
    "temp =imread(effected+'/person1945_bacteria_4872.jpeg')\n",
    "temp\n",
    "\n",
    "#NOt Scaled we will rescale it in Image generator"
   ]
  },
  {
   "cell_type": "code",
   "execution_count": null,
   "metadata": {
    "colab": {
     "base_uri": "https://localhost:8080/"
    },
    "executionInfo": {
     "elapsed": 21,
     "status": "ok",
     "timestamp": 1629716063414,
     "user": {
      "displayName": "Ahmad Hassan",
      "photoUrl": "https://lh3.googleusercontent.com/a-/AOh14GjivyZWj5GkXWxaN_1rEQX7vl4f0UJ9xojCjxOagw=s64",
      "userId": "15564875757963476455"
     },
     "user_tz": -300
    },
    "id": "ekeByu49yBaX",
    "outputId": "f22d7e71-35d0-495d-9a35-ba291d469fc6"
   },
   "outputs": [
    {
     "data": {
      "text/plain": [
       "(840, 1336)"
      ]
     },
     "execution_count": 28,
     "metadata": {},
     "output_type": "execute_result"
    }
   ],
   "source": [
    "temp.shape  #cd = 3"
   ]
  },
  {
   "cell_type": "markdown",
   "metadata": {
    "id": "vog2Eun5zZAD"
   },
   "source": [
    "## Initializing Image Data generator for real time Data Augmentation and Batch Division between Classes (lABELLING)"
   ]
  },
  {
   "cell_type": "markdown",
   "metadata": {
    "id": "lF5HTsxn2sYf"
   },
   "source": [
    "**IMPORTANT**"
   ]
  },
  {
   "cell_type": "code",
   "execution_count": null,
   "metadata": {
    "id": "exHZktL0ymWm"
   },
   "outputs": [],
   "source": [
    "import tensorflow\n",
    "import tensorflow.keras\n",
    "from tensorflow.keras.preprocessing.image import ImageDataGenerator\n",
    "from keras.applications.vgg16 import preprocess_input\n",
    "from tensorflow.keras.preprocessing import image\n"
   ]
  },
  {
   "cell_type": "code",
   "execution_count": null,
   "metadata": {
    "id": "NDytbor6zF2H"
   },
   "outputs": [],
   "source": [
    "image_gen = ImageDataGenerator(\n",
    "    rescale = 1./255,  \n",
    "    horizontal_flip=True,\n",
    "    zoom_range=0.3\n",
    "\n",
    " )"
   ]
  },
  {
   "cell_type": "code",
   "execution_count": null,
   "metadata": {
    "colab": {
     "base_uri": "https://localhost:8080/",
     "height": 287
    },
    "executionInfo": {
     "elapsed": 14,
     "status": "ok",
     "timestamp": 1629721631212,
     "user": {
      "displayName": "Ahmad Hassan",
      "photoUrl": "https://lh3.googleusercontent.com/a-/AOh14GjivyZWj5GkXWxaN_1rEQX7vl4f0UJ9xojCjxOagw=s64",
      "userId": "15564875757963476455"
     },
     "user_tz": -300
    },
    "id": "djOyueUG3GnH",
    "outputId": "145f142c-0010-44ac-ce63-9c7b4ac79201"
   },
   "outputs": [
    {
     "data": {
      "text/plain": [
       "<matplotlib.image.AxesImage at 0x7fa4440ebad0>"
      ]
     },
     "execution_count": 69,
     "metadata": {},
     "output_type": "execute_result"
    },
    {
     "data": {
      "image/png": "[encoded data removed]",
      "text/plain": [
       "<Figure size 432x288 with 1 Axes>"
      ]
     },
     "metadata": {
      "needs_background": "light"
     },
     "output_type": "display_data"
    }
   ],
   "source": [
    "#Original Image\n",
    "plt.imshow(temp)"
   ]
  },
  {
   "cell_type": "code",
   "execution_count": null,
   "metadata": {
    "colab": {
     "base_uri": "https://localhost:8080/",
     "height": 207
    },
    "executionInfo": {
     "elapsed": 11,
     "status": "error",
     "timestamp": 1629722157359,
     "user": {
      "displayName": "Ahmad Hassan",
      "photoUrl": "https://lh3.googleusercontent.com/a-/AOh14GjivyZWj5GkXWxaN_1rEQX7vl4f0UJ9xojCjxOagw=s64",
      "userId": "15564875757963476455"
     },
     "user_tz": -300
    },
    "id": "A-qfLA-6zzYG",
    "outputId": "2439538c-8de8-4920-bfc2-8f53b213715a"
   },
   "outputs": [
    {
     "ename": "AttributeError",
     "evalue": "ignored",
     "output_type": "error",
     "traceback": [
      "\u001b[0;31m---------------------------------------------------------------------------\u001b[0m",
      "\u001b[0;31mAttributeError\u001b[0m                            Traceback (most recent call last)",
      "\u001b[0;32m<ipython-input-78-98b886322c6f>\u001b[0m in \u001b[0;36m<module>\u001b[0;34m()\u001b[0m\n\u001b[1;32m      1\u001b[0m \u001b[0;34m\u001b[0m\u001b[0m\n\u001b[1;32m      2\u001b[0m \u001b[0mtemp\u001b[0m \u001b[0;34m=\u001b[0m \u001b[0mimage\u001b[0m\u001b[0;34m.\u001b[0m\u001b[0mload_img\u001b[0m\u001b[0;34m(\u001b[0m\u001b[0mnormal\u001b[0m\u001b[0;34m+\u001b[0m\u001b[0;34m'/NORMAL2-IM-1422-0001.jpeg'\u001b[0m\u001b[0;34m,\u001b[0m\u001b[0mtarget_size\u001b[0m\u001b[0;34m=\u001b[0m\u001b[0;34m(\u001b[0m\u001b[0;36m224\u001b[0m\u001b[0;34m,\u001b[0m\u001b[0;36m224\u001b[0m\u001b[0;34m)\u001b[0m\u001b[0;34m)\u001b[0m\u001b[0;34m\u001b[0m\u001b[0;34m\u001b[0m\u001b[0m\n\u001b[0;32m----> 3\u001b[0;31m \u001b[0mtemp\u001b[0m\u001b[0;34m.\u001b[0m\u001b[0mshape\u001b[0m\u001b[0;34m\u001b[0m\u001b[0;34m\u001b[0m\u001b[0m\n\u001b[0m",
      "\u001b[0;31mAttributeError\u001b[0m: 'Image' object has no attribute 'shape'"
     ]
    }
   ],
   "source": [
    "\n",
    "temp = image.load_img(normal+'/NORMAL2-IM-1422-0001.jpeg',target_size=(224,224))\n",
    "temp.shape\n"
   ]
  },
  {
   "cell_type": "markdown",
   "metadata": {
    "id": "eLAzfL9U4wyH"
   },
   "source": [
    "# Training"
   ]
  },
  {
   "cell_type": "code",
   "execution_count": null,
   "metadata": {
    "id": "nEPjr7SQ4y2m"
   },
   "outputs": [],
   "source": [
    "from tensorflow.keras.layers import Dense, Dropout , Flatten , Conv2D , MaxPool2D,Activation,BatchNormalization,LeakyReLU,GlobalAveragePooling2D\n",
    "\n",
    "from tensorflow.keras.models import Sequential\n",
    "\n",
    "from tensorflow.keras.callbacks import EarlyStopping\n",
    "\n",
    "from tensorflow.keras.applications.vgg16 import VGG16\n",
    "\n",
    "from keras.applications.resnet_v2 import ResNet50V2\n"
   ]
  },
  {
   "cell_type": "code",
   "execution_count": null,
   "metadata": {
    "colab": {
     "base_uri": "https://localhost:8080/"
    },
    "executionInfo": {
     "elapsed": 3,
     "status": "ok",
     "timestamp": 1629722555490,
     "user": {
      "displayName": "Ahmad Hassan",
      "photoUrl": "https://lh3.googleusercontent.com/a-/AOh14GjivyZWj5GkXWxaN_1rEQX7vl4f0UJ9xojCjxOagw=s64",
      "userId": "15564875757963476455"
     },
     "user_tz": -300
    },
    "id": "84qAU11k5AKq",
    "outputId": "16e66b22-9576-4f77-c1ca-d75f36d5cec5"
   },
   "outputs": [
    {
     "name": "stdout",
     "output_type": "stream",
     "text": [
      "Currently selected TF version: 2.x\n",
      "Available versions:\n",
      "* 1.x\n",
      "* 2.x\n"
     ]
    }
   ],
   "source": [
    "%tensorflow_version"
   ]
  },
  {
   "cell_type": "code",
   "execution_count": null,
   "metadata": {
    "id": "GuHobB6S5Hon"
   },
   "outputs": [],
   "source": [
    "# model = Sequential()\n",
    "\n",
    "# model.add(VGG16(include_top=False,\n",
    "#     weights=\"imagenet\",\n",
    "#     input_shape=(224,224,3),\n",
    "#   )) \n",
    "\n",
    "# model.add(Flatten())\n",
    "\n",
    "# model.add(Dense(  units = 64, activation='relu'  ))\n",
    "# model.add(Dropout(rate = 0.2))\n",
    "\n",
    "# #output layer\n",
    "# model.add(Dense(units=1,activation='sigmoid'))\n",
    "\n",
    "# #freeze vgg layer to not to train its all layers again\n",
    "# model.layers[0].trainable = False\n",
    "\n",
    "\n"
   ]
  },
  {
   "cell_type": "code",
   "execution_count": null,
   "metadata": {
    "id": "D4Fg5eh7BFnd"
   },
   "outputs": [],
   "source": [
    "#Using Resnet as transfer learning\n",
    "resnet50 = ResNet50V2(weights = \"imagenet\", input_shape = (220,220,3), include_top = False)\n",
    "\n",
    "for layer in resnet50.layers:\n",
    "    layer.trainable = False\n",
    "\n",
    "\n",
    "\n",
    "model = Sequential()\n",
    "\n",
    "model.add(resnet50)\n",
    "\n",
    "for layer in resnet50.layers:\n",
    "    layer.trainable = False\n",
    "    \n",
    "model.add(Flatten())\n",
    "\n",
    "model.add(Dense(units = 128, activation = \"relu\"))\n",
    "model.add(Dropout(0.5))\n",
    "\n",
    "model.add(Dense(units = 1, activation = \"sigmoid\"))\n",
    "    \n",
    "\n",
    "\n"
   ]
  },
  {
   "cell_type": "code",
   "execution_count": null,
   "metadata": {
    "id": "z_SSfzK29WMn"
   },
   "outputs": [],
   "source": [
    "#Compiling\n",
    "model.compile( optimizer='adam', loss='binary_crossentropy', metrics=['accuracy'])"
   ]
  },
  {
   "cell_type": "markdown",
   "metadata": {
    "id": "YVtmLeBv34Zu"
   },
   "source": []
  },
  {
   "cell_type": "code",
   "execution_count": null,
   "metadata": {
    "colab": {
     "base_uri": "https://localhost:8080/"
    },
    "executionInfo": {
     "elapsed": 4,
     "status": "ok",
     "timestamp": 1629719922020,
     "user": {
      "displayName": "Ahmad Hassan",
      "photoUrl": "https://lh3.googleusercontent.com/a-/AOh14GjivyZWj5GkXWxaN_1rEQX7vl4f0UJ9xojCjxOagw=s64",
      "userId": "15564875757963476455"
     },
     "user_tz": -300
    },
    "id": "YTEbDgdc9iiX",
    "outputId": "316a2341-e2ea-4e98-a811-5828017b72d7"
   },
   "outputs": [
    {
     "name": "stdout",
     "output_type": "stream",
     "text": [
      "Model: \"sequential_3\"\n",
      "_________________________________________________________________\n",
      "Layer (type)                 Output Shape              Param #   \n",
      "=================================================================\n",
      "vgg16 (Functional)           (None, 7, 7, 512)         14714688  \n",
      "_________________________________________________________________\n",
      "flatten_3 (Flatten)          (None, 25088)             0         \n",
      "_________________________________________________________________\n",
      "dense_6 (Dense)              (None, 64)                1605696   \n",
      "_________________________________________________________________\n",
      "dropout_3 (Dropout)          (None, 64)                0         \n",
      "_________________________________________________________________\n",
      "dense_7 (Dense)              (None, 1)                 65        \n",
      "=================================================================\n",
      "Total params: 16,320,449\n",
      "Trainable params: 1,605,761\n",
      "Non-trainable params: 14,714,688\n",
      "_________________________________________________________________\n"
     ]
    }
   ],
   "source": [
    "model.summary()"
   ]
  },
  {
   "cell_type": "markdown",
   "metadata": {
    "id": "7oiIIKaq9kuz"
   },
   "source": [
    "## Important Steps\n",
    "**CREATING ImageDataGenerator FOR REAL TIME DATA AUGMENTATION AND\n",
    "CREATING BATCHES of DaTa and LABELS**\n",
    "\n",
    "**KEEP IN MIND THE FORMAT FOR THIS**"
   ]
  },
  {
   "cell_type": "code",
   "execution_count": null,
   "metadata": {
    "colab": {
     "base_uri": "https://localhost:8080/"
    },
    "executionInfo": {
     "elapsed": 1102,
     "status": "ok",
     "timestamp": 1629721017598,
     "user": {
      "displayName": "Ahmad Hassan",
      "photoUrl": "https://lh3.googleusercontent.com/a-/AOh14GjivyZWj5GkXWxaN_1rEQX7vl4f0UJ9xojCjxOagw=s64",
      "userId": "15564875757963476455"
     },
     "user_tz": -300
    },
    "id": "q4-9fahY95YH",
    "outputId": "e32900bc-3449-4fd7-f90a-3bae74fd12b8"
   },
   "outputs": [
    {
     "name": "stdout",
     "output_type": "stream",
     "text": [
      "Found 5216 images belonging to 2 classes.\n",
      "Found 624 images belonging to 2 classes.\n"
     ]
    }
   ],
   "source": [
    "# train_gen = image_gen.flow_from_directory(directory=train_dir ,\n",
    "#                                           target_size=(224,224), color_mode='rgb',\n",
    "#                                          class_mode='binary', batch_size=32, shuffle=True,   )\n",
    "\n",
    "# test_gen = image_gen.flow_from_directory(directory=test_dir ,\n",
    "#                                           target_size=(224,224), color_mode='rgb',\n",
    "#                                           class_mode='binary' ,batch_size=32 , shuffle=False  )"
   ]
  },
  {
   "cell_type": "code",
   "execution_count": null,
   "metadata": {
    "colab": {
     "base_uri": "https://localhost:8080/"
    },
    "executionInfo": {
     "elapsed": 520,
     "status": "ok",
     "timestamp": 1629723977011,
     "user": {
      "displayName": "Ahmad Hassan",
      "photoUrl": "https://lh3.googleusercontent.com/a-/AOh14GjivyZWj5GkXWxaN_1rEQX7vl4f0UJ9xojCjxOagw=s64",
      "userId": "15564875757963476455"
     },
     "user_tz": -300
    },
    "id": "7QYIemABCr6N",
    "outputId": "0a138d41-0bca-4175-f640-795405249a07"
   },
   "outputs": [
    {
     "name": "stdout",
     "output_type": "stream",
     "text": [
      "Found 5216 images belonging to 2 classes.\n",
      "Found 624 images belonging to 2 classes.\n"
     ]
    }
   ],
   "source": [
    "train = image_gen.flow_from_directory(directory=train_dir,\n",
    "                                               batch_size=128,\n",
    "                                               target_size=(220,220),\n",
    "                                               color_mode=\"rgb\",\n",
    "                                               class_mode=\"binary\",\n",
    "                                               shuffle=True,\n",
    "                                               seed=42,\n",
    "                                               subset=\"training\")\n",
    "\n",
    "\n",
    "\n",
    "val = image_gen.flow_from_directory(directory=test_dir,\n",
    "                                               batch_size=128,\n",
    "                                               target_size=(220,220),\n",
    "                                               color_mode=\"rgb\",\n",
    "                                               class_mode=\"binary\",\n",
    "                                               shuffle=False,\n",
    "                                               seed=42)\n",
    "\n"
   ]
  },
  {
   "cell_type": "code",
   "execution_count": null,
   "metadata": {
    "id": "bdbIiiQR-RNW"
   },
   "outputs": [],
   "source": [
    "#Early Stoppings\n",
    "callback = EarlyStopping( monitor='val_loss', patience=2, verbose=1, mode='min',  )"
   ]
  },
  {
   "cell_type": "code",
   "execution_count": null,
   "metadata": {
    "id": "ouqk54L24JwQ"
   },
   "outputs": [],
   "source": []
  },
  {
   "cell_type": "code",
   "execution_count": null,
   "metadata": {
    "colab": {
     "base_uri": "https://localhost:8080/"
    },
    "id": "M9iORyV9-QI5",
    "outputId": "3600ce9e-745c-478e-fad6-7a56f915bc17"
   },
   "outputs": [
    {
     "name": "stdout",
     "output_type": "stream",
     "text": [
      "Epoch 1/8\n",
      "163/163 [==============================] - 83s 509ms/step - loss: 0.0620 - accuracy: 0.9845 - val_loss: 1.7227 - val_accuracy: 0.8045\n",
      "Epoch 2/8\n",
      "163/163 [==============================] - 83s 507ms/step - loss: 0.0615 - accuracy: 0.9829 - val_loss: 1.1487 - val_accuracy: 0.8526\n",
      "Epoch 3/8\n",
      "163/163 [==============================] - 83s 510ms/step - loss: 0.0535 - accuracy: 0.9845 - val_loss: 1.7393 - val_accuracy: 0.8221\n",
      "Epoch 4/8\n",
      "163/163 [==============================] - ETA: 0s - loss: 0.0450 - accuracy: 0.9864"
     ]
    }
   ],
   "source": [
    "#Fitting\n",
    "model.fit(x=train_gen ,validation_data=test_gen ,   epochs=8 , callbacks=[callback]  )"
   ]
  },
  {
   "cell_type": "markdown",
   "metadata": {
    "id": "hLhkJnZb3L1z"
   },
   "source": [
    "## Testing"
   ]
  },
  {
   "cell_type": "code",
   "execution_count": null,
   "metadata": {
    "colab": {
     "base_uri": "https://localhost:8080/",
     "height": 300
    },
    "executionInfo": {
     "elapsed": 24,
     "status": "ok",
     "timestamp": 1629723632900,
     "user": {
      "displayName": "Ahmad Hassan",
      "photoUrl": "https://lh3.googleusercontent.com/a-/AOh14GjivyZWj5GkXWxaN_1rEQX7vl4f0UJ9xojCjxOagw=s64",
      "userId": "15564875757963476455"
     },
     "user_tz": -300
    },
    "id": "HZM7BBrDAZl3",
    "outputId": "d1e81202-0adc-4bf8-e8ce-56c7c8d93615"
   },
   "outputs": [
    {
     "data": {
      "text/html": [
       "<div>\n",
       "<style scoped>\n",
       "    .dataframe tbody tr th:only-of-type {\n",
       "        vertical-align: middle;\n",
       "    }\n",
       "\n",
       "    .dataframe tbody tr th {\n",
       "        vertical-align: top;\n",
       "    }\n",
       "\n",
       "    .dataframe thead th {\n",
       "        text-align: right;\n",
       "    }\n",
       "</style>\n",
       "<table border=\"1\" class=\"dataframe\">\n",
       "  <thead>\n",
       "    <tr style=\"text-align: right;\">\n",
       "      <th></th>\n",
       "      <th>loss</th>\n",
       "      <th>accuracy</th>\n",
       "      <th>val_loss</th>\n",
       "      <th>val_accuracy</th>\n",
       "    </tr>\n",
       "  </thead>\n",
       "  <tbody>\n",
       "    <tr>\n",
       "      <th>0</th>\n",
       "      <td>0.923688</td>\n",
       "      <td>0.923888</td>\n",
       "      <td>0.680056</td>\n",
       "      <td>0.822115</td>\n",
       "    </tr>\n",
       "    <tr>\n",
       "      <th>1</th>\n",
       "      <td>0.127670</td>\n",
       "      <td>0.964341</td>\n",
       "      <td>0.819268</td>\n",
       "      <td>0.814103</td>\n",
       "    </tr>\n",
       "    <tr>\n",
       "      <th>2</th>\n",
       "      <td>0.091541</td>\n",
       "      <td>0.973735</td>\n",
       "      <td>1.110016</td>\n",
       "      <td>0.790064</td>\n",
       "    </tr>\n",
       "    <tr>\n",
       "      <th>3</th>\n",
       "      <td>0.086426</td>\n",
       "      <td>0.977377</td>\n",
       "      <td>0.820506</td>\n",
       "      <td>0.828526</td>\n",
       "    </tr>\n",
       "    <tr>\n",
       "      <th>4</th>\n",
       "      <td>0.079414</td>\n",
       "      <td>0.977952</td>\n",
       "      <td>1.361184</td>\n",
       "      <td>0.798077</td>\n",
       "    </tr>\n",
       "    <tr>\n",
       "      <th>5</th>\n",
       "      <td>0.072378</td>\n",
       "      <td>0.981595</td>\n",
       "      <td>1.217714</td>\n",
       "      <td>0.812500</td>\n",
       "    </tr>\n",
       "    <tr>\n",
       "      <th>6</th>\n",
       "      <td>0.066994</td>\n",
       "      <td>0.981020</td>\n",
       "      <td>1.291447</td>\n",
       "      <td>0.830128</td>\n",
       "    </tr>\n",
       "    <tr>\n",
       "      <th>7</th>\n",
       "      <td>0.057322</td>\n",
       "      <td>0.984663</td>\n",
       "      <td>1.497796</td>\n",
       "      <td>0.820513</td>\n",
       "    </tr>\n",
       "  </tbody>\n",
       "</table>\n",
       "</div>"
      ],
      "text/plain": [
       "       loss  accuracy  val_loss  val_accuracy\n",
       "0  0.923688  0.923888  0.680056      0.822115\n",
       "1  0.127670  0.964341  0.819268      0.814103\n",
       "2  0.091541  0.973735  1.110016      0.790064\n",
       "3  0.086426  0.977377  0.820506      0.828526\n",
       "4  0.079414  0.977952  1.361184      0.798077\n",
       "5  0.072378  0.981595  1.217714      0.812500\n",
       "6  0.066994  0.981020  1.291447      0.830128\n",
       "7  0.057322  0.984663  1.497796      0.820513"
      ]
     },
     "execution_count": 96,
     "metadata": {},
     "output_type": "execute_result"
    }
   ],
   "source": [
    "loss = pd.DataFrame(model.history.history)\n",
    "loss"
   ]
  },
  {
   "cell_type": "code",
   "execution_count": null,
   "metadata": {
    "colab": {
     "base_uri": "https://localhost:8080/",
     "height": 283
    },
    "executionInfo": {
     "elapsed": 648,
     "status": "ok",
     "timestamp": 1629723648906,
     "user": {
      "displayName": "Ahmad Hassan",
      "photoUrl": "https://lh3.googleusercontent.com/a-/AOh14GjivyZWj5GkXWxaN_1rEQX7vl4f0UJ9xojCjxOagw=s64",
      "userId": "15564875757963476455"
     },
     "user_tz": -300
    },
    "id": "cdoPzzga3PCH",
    "outputId": "8b89542d-fa89-4979-b380-7fb46366d57b"
   },
   "outputs": [
    {
     "data": {
      "text/plain": [
       "<matplotlib.axes._subplots.AxesSubplot at 0x7fa440e47090>"
      ]
     },
     "execution_count": 97,
     "metadata": {},
     "output_type": "execute_result"
    },
    {
     "data": {
      "image/png": "[encoded data removed]",
      "text/plain": [
       "<Figure size 432x288 with 1 Axes>"
      ]
     },
     "metadata": {
      "needs_background": "light"
     },
     "output_type": "display_data"
    }
   ],
   "source": [
    "#\n",
    "4#Loss\n",
    "loss[['loss','val_loss']].plot()"
   ]
  },
  {
   "cell_type": "code",
   "execution_count": null,
   "metadata": {
    "colab": {
     "base_uri": "https://localhost:8080/",
     "height": 283
    },
    "executionInfo": {
     "elapsed": 648,
     "status": "ok",
     "timestamp": 1629723656119,
     "user": {
      "displayName": "Ahmad Hassan",
      "photoUrl": "https://lh3.googleusercontent.com/a-/AOh14GjivyZWj5GkXWxaN_1rEQX7vl4f0UJ9xojCjxOagw=s64",
      "userId": "15564875757963476455"
     },
     "user_tz": -300
    },
    "id": "4IoqLF3q3PRw",
    "outputId": "9e477323-3534-4631-87a2-d52d34fa15ac"
   },
   "outputs": [
    {
     "data": {
      "text/plain": [
       "<matplotlib.axes._subplots.AxesSubplot at 0x7fa44579e290>"
      ]
     },
     "execution_count": 98,
     "metadata": {},
     "output_type": "execute_result"
    },
    {
     "data": {
      "image/png": "[encoded data removed]",
      "text/plain": [
       "<Figure size 432x288 with 1 Axes>"
      ]
     },
     "metadata": {
      "needs_background": "light"
     },
     "output_type": "display_data"
    }
   ],
   "source": [
    "#Accuracy\n",
    "loss[['accuracy','val_accuracy']].plot()"
   ]
  },
  {
   "cell_type": "code",
   "execution_count": null,
   "metadata": {
    "id": "Vwe1hX2T3h15"
   },
   "outputs": [],
   "source": [
    "from sklearn.metrics import confusion_matrix , classification_report"
   ]
  },
  {
   "cell_type": "code",
   "execution_count": null,
   "metadata": {
    "colab": {
     "base_uri": "https://localhost:8080/"
    },
    "executionInfo": {
     "elapsed": 9431,
     "status": "ok",
     "timestamp": 1629723675145,
     "user": {
      "displayName": "Ahmad Hassan",
      "photoUrl": "https://lh3.googleusercontent.com/a-/AOh14GjivyZWj5GkXWxaN_1rEQX7vl4f0UJ9xojCjxOagw=s64",
      "userId": "15564875757963476455"
     },
     "user_tz": -300
    },
    "id": "ms1vXbzz3o-Z",
    "outputId": "68860e61-a350-4e72-de3e-dedc1458d36c"
   },
   "outputs": [
    {
     "name": "stderr",
     "output_type": "stream",
     "text": [
      "/usr/local/lib/python3.7/dist-packages/keras/engine/training.py:2035: UserWarning: `Model.predict_generator` is deprecated and will be removed in a future version. Please use `Model.predict`, which supports generators.\n",
      "  warnings.warn('`Model.predict_generator` is deprecated and '\n"
     ]
    }
   ],
   "source": [
    "#Predict on augmented test_gen\n",
    "predict = model.predict_generator(test_gen)"
   ]
  },
  {
   "cell_type": "code",
   "execution_count": null,
   "metadata": {
    "colab": {
     "base_uri": "https://localhost:8080/"
    },
    "executionInfo": {
     "elapsed": 677,
     "status": "ok",
     "timestamp": 1629723679163,
     "user": {
      "displayName": "Ahmad Hassan",
      "photoUrl": "https://lh3.googleusercontent.com/a-/AOh14GjivyZWj5GkXWxaN_1rEQX7vl4f0UJ9xojCjxOagw=s64",
      "userId": "15564875757963476455"
     },
     "user_tz": -300
    },
    "id": "bq9Ks5pA5hs1",
    "outputId": "9035c77f-5f9c-445c-b85d-93b1bcebf9a1"
   },
   "outputs": [
    {
     "data": {
      "text/plain": [
       "array([[9.6299303e-01],\n",
       "       [6.8188816e-02],\n",
       "       [3.3669020e-03],\n",
       "       [4.5773473e-02],\n",
       "       [8.1248740e-03],\n",
       "       [7.3559626e-05],\n",
       "       [4.8324440e-05],\n",
       "       [7.5782520e-01],\n",
       "       [9.9991953e-01],\n",
       "       [3.6334040e-05],\n",
       "       [4.3371236e-03],\n",
       "       [9.9942786e-01],\n",
       "       [3.5676721e-02],\n",
       "       [7.6445245e-10],\n",
       "       [9.9708182e-01],\n",
       "       [6.2406516e-01],\n",
       "       [9.9999905e-01],\n",
       "       [1.6756831e-03],\n",
       "       [2.7354869e-07],\n",
       "       [3.4961994e-03],\n",
       "       [9.4095349e-01],\n",
       "       [1.2942023e-03],\n",
       "       [9.2005605e-01],\n",
       "       [1.1666984e-03],\n",
       "       [8.0206871e-01],\n",
       "       [7.1569919e-03],\n",
       "       [9.8355377e-01],\n",
       "       [3.2618981e-02],\n",
       "       [9.9986255e-01],\n",
       "       [9.6062547e-01],\n",
       "       [9.9861169e-01],\n",
       "       [3.2733963e-03],\n",
       "       [9.5489922e-05],\n",
       "       [1.5431331e-08],\n",
       "       [3.6986881e-01],\n",
       "       [1.3127426e-03],\n",
       "       [1.0815971e-05],\n",
       "       [5.4609287e-01],\n",
       "       [7.3404230e-02],\n",
       "       [9.3119353e-04],\n",
       "       [9.8681718e-01],\n",
       "       [8.9907126e-06],\n",
       "       [4.4507274e-01],\n",
       "       [5.8232952e-10],\n",
       "       [9.9901187e-01],\n",
       "       [1.0000000e+00],\n",
       "       [9.9999905e-01],\n",
       "       [9.3124712e-01],\n",
       "       [9.9999511e-01],\n",
       "       [5.7460171e-01],\n",
       "       [9.6886384e-01],\n",
       "       [4.2163907e-03],\n",
       "       [9.9999988e-01],\n",
       "       [3.2194564e-01],\n",
       "       [8.0231351e-01],\n",
       "       [2.1394303e-04],\n",
       "       [9.9999988e-01],\n",
       "       [2.1723357e-01],\n",
       "       [1.2298387e-01],\n",
       "       [8.6874908e-01],\n",
       "       [1.0589071e-08],\n",
       "       [1.0000000e+00],\n",
       "       [5.7582480e-01],\n",
       "       [7.8752026e-11],\n",
       "       [2.2831310e-03],\n",
       "       [7.1838015e-04],\n",
       "       [1.9109914e-01],\n",
       "       [1.0000000e+00],\n",
       "       [1.1371767e-02],\n",
       "       [1.7428353e-03],\n",
       "       [2.0098418e-03],\n",
       "       [3.2863142e-03],\n",
       "       [4.4062058e-03],\n",
       "       [2.4281524e-01],\n",
       "       [4.7320384e-04],\n",
       "       [9.8519367e-01],\n",
       "       [2.1745608e-04],\n",
       "       [2.7402311e-06],\n",
       "       [7.1359691e-09],\n",
       "       [2.0713816e-04],\n",
       "       [7.9713023e-01],\n",
       "       [2.4458516e-04],\n",
       "       [5.3579752e-05],\n",
       "       [4.0818164e-01],\n",
       "       [5.2003293e-06],\n",
       "       [9.7890294e-01],\n",
       "       [2.5157031e-01],\n",
       "       [2.1627868e-04],\n",
       "       [9.9856997e-01],\n",
       "       [3.0009222e-01],\n",
       "       [1.4233805e-08],\n",
       "       [1.3572322e-02],\n",
       "       [7.1983426e-03],\n",
       "       [4.9708819e-01],\n",
       "       [2.9070601e-01],\n",
       "       [2.9070601e-01],\n",
       "       [4.0329494e-05],\n",
       "       [6.6199887e-01],\n",
       "       [9.9913591e-01],\n",
       "       [1.1257239e-01],\n",
       "       [4.2900388e-07],\n",
       "       [5.6346315e-01],\n",
       "       [7.9515696e-02],\n",
       "       [6.8300676e-01],\n",
       "       [1.0487024e-01],\n",
       "       [8.6760896e-01],\n",
       "       [8.5980773e-06],\n",
       "       [1.5378315e-06],\n",
       "       [2.4933830e-01],\n",
       "       [9.7676462e-01],\n",
       "       [6.8183173e-05],\n",
       "       [1.1532623e-03],\n",
       "       [2.0424643e-05],\n",
       "       [9.6932405e-01],\n",
       "       [5.1232678e-04],\n",
       "       [2.6610032e-01],\n",
       "       [9.9785465e-01],\n",
       "       [9.9737048e-01],\n",
       "       [9.9737048e-01],\n",
       "       [1.0000000e+00],\n",
       "       [7.2769976e-01],\n",
       "       [1.0000000e+00],\n",
       "       [9.9991775e-01],\n",
       "       [9.9761045e-01],\n",
       "       [9.9999988e-01],\n",
       "       [6.5546292e-03],\n",
       "       [1.0000000e+00],\n",
       "       [9.4860834e-01],\n",
       "       [9.9929023e-01],\n",
       "       [9.9999952e-01],\n",
       "       [9.9999988e-01],\n",
       "       [9.9947220e-01],\n",
       "       [9.9994564e-01],\n",
       "       [9.9999988e-01],\n",
       "       [1.0000000e+00],\n",
       "       [9.9999988e-01],\n",
       "       [9.9997938e-01],\n",
       "       [9.9994421e-01],\n",
       "       [9.9396402e-01],\n",
       "       [9.9396402e-01],\n",
       "       [1.0000000e+00],\n",
       "       [9.9656576e-01],\n",
       "       [9.9999928e-01],\n",
       "       [1.0000000e+00],\n",
       "       [1.0000000e+00],\n",
       "       [9.9851316e-01],\n",
       "       [9.9999082e-01],\n",
       "       [9.9999905e-01],\n",
       "       [4.4643960e-04],\n",
       "       [3.0616951e-01],\n",
       "       [8.2907907e-04],\n",
       "       [2.2430405e-04],\n",
       "       [9.5734882e-01],\n",
       "       [9.9874604e-01],\n",
       "       [8.6800116e-01],\n",
       "       [2.8936329e-04],\n",
       "       [8.0637395e-01],\n",
       "       [9.9740988e-01],\n",
       "       [9.9752599e-01],\n",
       "       [9.2195475e-01],\n",
       "       [9.9950838e-01],\n",
       "       [5.1608944e-01],\n",
       "       [1.0221258e-02],\n",
       "       [3.6282609e-03],\n",
       "       [9.2620805e-02],\n",
       "       [1.9637633e-03],\n",
       "       [8.1792617e-01],\n",
       "       [3.7919179e-01],\n",
       "       [9.1406298e-01],\n",
       "       [9.7596061e-01],\n",
       "       [1.6424641e-02],\n",
       "       [4.6478277e-01],\n",
       "       [9.9998891e-01],\n",
       "       [5.9174104e-03],\n",
       "       [9.9948573e-01],\n",
       "       [4.1847002e-06],\n",
       "       [1.8878721e-02],\n",
       "       [8.4336838e-03],\n",
       "       [7.8088731e-01],\n",
       "       [5.5991558e-07],\n",
       "       [1.2790237e-02],\n",
       "       [9.9999750e-01],\n",
       "       [9.9816293e-01],\n",
       "       [2.8858356e-02],\n",
       "       [1.9811983e-01],\n",
       "       [7.3565652e-06],\n",
       "       [2.3978408e-01],\n",
       "       [5.4269681e-06],\n",
       "       [3.2423075e-02],\n",
       "       [4.4736094e-03],\n",
       "       [8.2817799e-01],\n",
       "       [4.9449649e-01],\n",
       "       [2.1844795e-03],\n",
       "       [9.9999881e-01],\n",
       "       [3.9517907e-03],\n",
       "       [5.6118466e-02],\n",
       "       [6.5868205e-01],\n",
       "       [9.9997652e-01],\n",
       "       [9.2990679e-01],\n",
       "       [3.8190596e-05],\n",
       "       [9.9888510e-01],\n",
       "       [9.1003740e-01],\n",
       "       [9.9989998e-01],\n",
       "       [6.0518425e-02],\n",
       "       [1.7621960e-01],\n",
       "       [7.0291333e-02],\n",
       "       [2.6693842e-03],\n",
       "       [4.4161403e-01],\n",
       "       [1.3623239e-06],\n",
       "       [1.0000000e+00],\n",
       "       [7.7733435e-03],\n",
       "       [2.9087850e-04],\n",
       "       [1.9077170e-06],\n",
       "       [4.4747052e-01],\n",
       "       [1.3191296e-02],\n",
       "       [2.8915280e-01],\n",
       "       [1.8274229e-02],\n",
       "       [1.0000000e+00],\n",
       "       [9.9986577e-01],\n",
       "       [9.9988794e-01],\n",
       "       [9.9998736e-01],\n",
       "       [9.9999917e-01],\n",
       "       [9.9977893e-01],\n",
       "       [9.6356821e-01],\n",
       "       [2.5108790e-02],\n",
       "       [9.6260238e-01],\n",
       "       [9.9994683e-01],\n",
       "       [2.7967289e-01],\n",
       "       [9.9998724e-01],\n",
       "       [3.2989628e-04],\n",
       "       [9.9848795e-01],\n",
       "       [6.7784411e-01],\n",
       "       [1.9638410e-01],\n",
       "       [9.9867707e-01],\n",
       "       [1.0000000e+00],\n",
       "       [1.0000000e+00],\n",
       "       [1.0000000e+00],\n",
       "       [1.0000000e+00],\n",
       "       [1.0000000e+00],\n",
       "       [1.0000000e+00],\n",
       "       [1.0000000e+00],\n",
       "       [1.0000000e+00],\n",
       "       [1.0000000e+00],\n",
       "       [1.0000000e+00],\n",
       "       [1.0000000e+00],\n",
       "       [1.0000000e+00],\n",
       "       [1.0000000e+00],\n",
       "       [1.0000000e+00],\n",
       "       [1.0000000e+00],\n",
       "       [1.0000000e+00],\n",
       "       [1.0000000e+00],\n",
       "       [1.0000000e+00],\n",
       "       [1.0000000e+00],\n",
       "       [1.0000000e+00],\n",
       "       [9.9999678e-01],\n",
       "       [1.0000000e+00],\n",
       "       [1.0000000e+00],\n",
       "       [1.0000000e+00],\n",
       "       [1.0000000e+00],\n",
       "       [1.0000000e+00],\n",
       "       [1.0000000e+00],\n",
       "       [1.0000000e+00],\n",
       "       [1.0000000e+00],\n",
       "       [1.0000000e+00],\n",
       "       [1.0000000e+00],\n",
       "       [1.0000000e+00],\n",
       "       [1.0000000e+00],\n",
       "       [1.0000000e+00],\n",
       "       [1.0000000e+00],\n",
       "       [1.0000000e+00],\n",
       "       [1.0000000e+00],\n",
       "       [1.0000000e+00],\n",
       "       [1.0000000e+00],\n",
       "       [1.0000000e+00],\n",
       "       [1.0000000e+00],\n",
       "       [1.0000000e+00],\n",
       "       [1.0000000e+00],\n",
       "       [1.0000000e+00],\n",
       "       [9.9999988e-01],\n",
       "       [1.0000000e+00],\n",
       "       [1.0000000e+00],\n",
       "       [1.0000000e+00],\n",
       "       [9.9997282e-01],\n",
       "       [1.0000000e+00],\n",
       "       [1.0000000e+00],\n",
       "       [1.0000000e+00],\n",
       "       [1.0000000e+00],\n",
       "       [9.9995136e-01],\n",
       "       [9.9991167e-01],\n",
       "       [9.9999774e-01],\n",
       "       [1.0000000e+00],\n",
       "       [1.0000000e+00],\n",
       "       [1.0000000e+00],\n",
       "       [1.0000000e+00],\n",
       "       [1.0000000e+00],\n",
       "       [1.0000000e+00],\n",
       "       [1.0000000e+00],\n",
       "       [1.0000000e+00],\n",
       "       [1.0000000e+00],\n",
       "       [9.9999809e-01],\n",
       "       [1.0000000e+00],\n",
       "       [1.0000000e+00],\n",
       "       [9.9999976e-01],\n",
       "       [1.0000000e+00],\n",
       "       [1.0000000e+00],\n",
       "       [1.0000000e+00],\n",
       "       [1.0000000e+00],\n",
       "       [1.0000000e+00],\n",
       "       [9.9999988e-01],\n",
       "       [1.0000000e+00],\n",
       "       [1.0000000e+00],\n",
       "       [1.0000000e+00],\n",
       "       [1.0000000e+00],\n",
       "       [1.0000000e+00],\n",
       "       [1.0000000e+00],\n",
       "       [1.0000000e+00],\n",
       "       [1.0000000e+00],\n",
       "       [3.3744112e-01],\n",
       "       [1.0000000e+00],\n",
       "       [1.0000000e+00],\n",
       "       [1.0000000e+00],\n",
       "       [1.0000000e+00],\n",
       "       [9.9999964e-01],\n",
       "       [1.0000000e+00],\n",
       "       [1.0000000e+00],\n",
       "       [1.0000000e+00],\n",
       "       [1.0000000e+00],\n",
       "       [1.0000000e+00],\n",
       "       [1.0000000e+00],\n",
       "       [1.0000000e+00],\n",
       "       [1.0000000e+00],\n",
       "       [1.0000000e+00],\n",
       "       [1.0000000e+00],\n",
       "       [1.0000000e+00],\n",
       "       [9.9999952e-01],\n",
       "       [1.0000000e+00],\n",
       "       [1.0000000e+00],\n",
       "       [1.0000000e+00],\n",
       "       [1.0000000e+00],\n",
       "       [1.0000000e+00],\n",
       "       [1.0000000e+00],\n",
       "       [9.9999952e-01],\n",
       "       [1.0000000e+00],\n",
       "       [1.0000000e+00],\n",
       "       [1.0000000e+00],\n",
       "       [1.0000000e+00],\n",
       "       [1.0000000e+00],\n",
       "       [1.0000000e+00],\n",
       "       [9.8373556e-01],\n",
       "       [1.0000000e+00],\n",
       "       [1.0000000e+00],\n",
       "       [1.0000000e+00],\n",
       "       [1.0000000e+00],\n",
       "       [1.0000000e+00],\n",
       "       [1.0000000e+00],\n",
       "       [9.9999332e-01],\n",
       "       [1.0000000e+00],\n",
       "       [1.0000000e+00],\n",
       "       [1.0000000e+00],\n",
       "       [1.0000000e+00],\n",
       "       [1.0000000e+00],\n",
       "       [1.0000000e+00],\n",
       "       [1.0000000e+00],\n",
       "       [9.7130805e-01],\n",
       "       [1.0000000e+00],\n",
       "       [1.0000000e+00],\n",
       "       [1.0000000e+00],\n",
       "       [1.0000000e+00],\n",
       "       [1.0000000e+00],\n",
       "       [1.0000000e+00],\n",
       "       [1.0000000e+00],\n",
       "       [1.0000000e+00],\n",
       "       [1.0000000e+00],\n",
       "       [1.0000000e+00],\n",
       "       [1.0000000e+00],\n",
       "       [1.0000000e+00],\n",
       "       [1.0000000e+00],\n",
       "       [1.0000000e+00],\n",
       "       [1.0000000e+00],\n",
       "       [1.0000000e+00],\n",
       "       [1.0000000e+00],\n",
       "       [1.0000000e+00],\n",
       "       [9.9999988e-01],\n",
       "       [1.0000000e+00],\n",
       "       [1.0000000e+00],\n",
       "       [1.0000000e+00],\n",
       "       [1.0000000e+00],\n",
       "       [1.0000000e+00],\n",
       "       [9.9999857e-01],\n",
       "       [1.0000000e+00],\n",
       "       [8.7404996e-01],\n",
       "       [8.3584118e-01],\n",
       "       [1.0000000e+00],\n",
       "       [1.0000000e+00],\n",
       "       [1.0000000e+00],\n",
       "       [1.0000000e+00],\n",
       "       [1.0000000e+00],\n",
       "       [1.0000000e+00],\n",
       "       [1.0000000e+00],\n",
       "       [1.0000000e+00],\n",
       "       [1.0000000e+00],\n",
       "       [9.9993968e-01],\n",
       "       [1.0000000e+00],\n",
       "       [1.0000000e+00],\n",
       "       [9.9994862e-01],\n",
       "       [9.9823076e-01],\n",
       "       [9.9999905e-01],\n",
       "       [1.0000000e+00],\n",
       "       [1.0000000e+00],\n",
       "       [1.0000000e+00],\n",
       "       [1.0000000e+00],\n",
       "       [1.0000000e+00],\n",
       "       [1.0000000e+00],\n",
       "       [1.0000000e+00],\n",
       "       [1.0000000e+00],\n",
       "       [1.0000000e+00],\n",
       "       [1.0000000e+00],\n",
       "       [9.5093870e-01],\n",
       "       [1.0000000e+00],\n",
       "       [1.0000000e+00],\n",
       "       [9.9996054e-01],\n",
       "       [1.0000000e+00],\n",
       "       [1.0000000e+00],\n",
       "       [1.0000000e+00],\n",
       "       [1.0000000e+00],\n",
       "       [1.0000000e+00],\n",
       "       [1.0000000e+00],\n",
       "       [1.0000000e+00],\n",
       "       [1.0000000e+00],\n",
       "       [1.0000000e+00],\n",
       "       [9.9999988e-01],\n",
       "       [1.0000000e+00],\n",
       "       [1.0000000e+00],\n",
       "       [1.0000000e+00],\n",
       "       [1.0000000e+00],\n",
       "       [1.0000000e+00],\n",
       "       [9.9991238e-01],\n",
       "       [1.0000000e+00],\n",
       "       [1.0000000e+00],\n",
       "       [9.9999845e-01],\n",
       "       [9.9999988e-01],\n",
       "       [9.9999964e-01],\n",
       "       [1.0000000e+00],\n",
       "       [1.0000000e+00],\n",
       "       [1.0000000e+00],\n",
       "       [1.0000000e+00],\n",
       "       [9.9999332e-01],\n",
       "       [1.0000000e+00],\n",
       "       [9.9999988e-01],\n",
       "       [1.0000000e+00],\n",
       "       [1.0000000e+00],\n",
       "       [1.0000000e+00],\n",
       "       [1.0000000e+00],\n",
       "       [1.0000000e+00],\n",
       "       [1.0000000e+00],\n",
       "       [1.0000000e+00],\n",
       "       [1.0000000e+00],\n",
       "       [1.0000000e+00],\n",
       "       [1.0000000e+00],\n",
       "       [1.0000000e+00],\n",
       "       [1.0000000e+00],\n",
       "       [1.0000000e+00],\n",
       "       [1.0000000e+00],\n",
       "       [9.9999976e-01],\n",
       "       [1.0000000e+00],\n",
       "       [9.9629885e-01],\n",
       "       [1.0000000e+00],\n",
       "       [1.0000000e+00],\n",
       "       [1.0000000e+00],\n",
       "       [1.0000000e+00],\n",
       "       [1.0000000e+00],\n",
       "       [1.0000000e+00],\n",
       "       [1.0000000e+00],\n",
       "       [8.1686723e-01],\n",
       "       [1.0000000e+00],\n",
       "       [1.0000000e+00],\n",
       "       [9.9874699e-01],\n",
       "       [1.0000000e+00],\n",
       "       [1.0000000e+00],\n",
       "       [9.0498900e-01],\n",
       "       [9.9998939e-01],\n",
       "       [1.0000000e+00],\n",
       "       [1.0000000e+00],\n",
       "       [1.0000000e+00],\n",
       "       [1.0000000e+00],\n",
       "       [1.0000000e+00],\n",
       "       [1.0000000e+00],\n",
       "       [1.0000000e+00],\n",
       "       [1.0000000e+00],\n",
       "       [1.0000000e+00],\n",
       "       [1.0000000e+00],\n",
       "       [1.0000000e+00],\n",
       "       [1.0000000e+00],\n",
       "       [1.0000000e+00],\n",
       "       [9.9868053e-01],\n",
       "       [1.0000000e+00],\n",
       "       [9.2050105e-01],\n",
       "       [1.0000000e+00],\n",
       "       [1.0000000e+00],\n",
       "       [1.0000000e+00],\n",
       "       [9.9999988e-01],\n",
       "       [1.0000000e+00],\n",
       "       [1.0000000e+00],\n",
       "       [1.0000000e+00],\n",
       "       [1.0000000e+00],\n",
       "       [1.0000000e+00],\n",
       "       [1.0000000e+00],\n",
       "       [1.0000000e+00],\n",
       "       [9.9999988e-01],\n",
       "       [1.0000000e+00],\n",
       "       [1.0000000e+00],\n",
       "       [1.0000000e+00],\n",
       "       [1.0000000e+00],\n",
       "       [1.0000000e+00],\n",
       "       [1.0000000e+00],\n",
       "       [1.0000000e+00],\n",
       "       [1.0000000e+00],\n",
       "       [1.0000000e+00],\n",
       "       [1.0000000e+00],\n",
       "       [9.9991620e-01],\n",
       "       [1.0000000e+00],\n",
       "       [9.9997878e-01],\n",
       "       [1.0000000e+00],\n",
       "       [1.0000000e+00],\n",
       "       [9.9999988e-01],\n",
       "       [9.9996507e-01],\n",
       "       [1.0000000e+00],\n",
       "       [1.0000000e+00],\n",
       "       [1.0000000e+00],\n",
       "       [9.9993610e-01],\n",
       "       [9.9323297e-01],\n",
       "       [1.0000000e+00],\n",
       "       [1.0000000e+00],\n",
       "       [1.0000000e+00],\n",
       "       [1.0000000e+00],\n",
       "       [1.0000000e+00],\n",
       "       [1.0000000e+00],\n",
       "       [1.0000000e+00],\n",
       "       [1.0000000e+00],\n",
       "       [9.9999678e-01],\n",
       "       [1.0000000e+00],\n",
       "       [9.9999404e-01],\n",
       "       [1.0000000e+00],\n",
       "       [1.0000000e+00],\n",
       "       [1.0000000e+00],\n",
       "       [1.0000000e+00],\n",
       "       [1.0000000e+00],\n",
       "       [1.0000000e+00],\n",
       "       [1.0000000e+00],\n",
       "       [1.0000000e+00],\n",
       "       [1.0000000e+00],\n",
       "       [9.9995351e-01],\n",
       "       [1.0000000e+00],\n",
       "       [1.0000000e+00],\n",
       "       [1.0000000e+00],\n",
       "       [1.0000000e+00],\n",
       "       [1.0000000e+00],\n",
       "       [1.0000000e+00],\n",
       "       [1.0000000e+00],\n",
       "       [1.0000000e+00],\n",
       "       [1.0000000e+00],\n",
       "       [1.0000000e+00],\n",
       "       [1.0000000e+00],\n",
       "       [1.0000000e+00],\n",
       "       [1.0000000e+00],\n",
       "       [1.0000000e+00],\n",
       "       [1.0000000e+00],\n",
       "       [9.9813759e-01],\n",
       "       [1.0000000e+00],\n",
       "       [1.0000000e+00],\n",
       "       [1.0000000e+00],\n",
       "       [1.0000000e+00],\n",
       "       [1.0000000e+00],\n",
       "       [1.0000000e+00],\n",
       "       [1.0000000e+00],\n",
       "       [1.0000000e+00],\n",
       "       [1.0000000e+00],\n",
       "       [1.0000000e+00],\n",
       "       [1.0000000e+00],\n",
       "       [1.0000000e+00],\n",
       "       [1.0000000e+00],\n",
       "       [9.9983299e-01],\n",
       "       [1.0000000e+00],\n",
       "       [1.0000000e+00],\n",
       "       [9.9999952e-01],\n",
       "       [1.0000000e+00],\n",
       "       [1.0000000e+00],\n",
       "       [1.0000000e+00],\n",
       "       [1.0000000e+00],\n",
       "       [1.0000000e+00],\n",
       "       [1.0000000e+00],\n",
       "       [1.0000000e+00],\n",
       "       [1.0000000e+00],\n",
       "       [1.0000000e+00],\n",
       "       [1.0000000e+00],\n",
       "       [1.0000000e+00],\n",
       "       [1.0000000e+00],\n",
       "       [1.0000000e+00],\n",
       "       [1.0000000e+00],\n",
       "       [9.9949670e-01],\n",
       "       [1.0000000e+00],\n",
       "       [1.0000000e+00],\n",
       "       [1.0000000e+00],\n",
       "       [1.0000000e+00],\n",
       "       [1.0000000e+00],\n",
       "       [1.0000000e+00],\n",
       "       [1.0000000e+00],\n",
       "       [1.0000000e+00],\n",
       "       [1.0000000e+00],\n",
       "       [1.0000000e+00],\n",
       "       [1.0000000e+00],\n",
       "       [1.0000000e+00],\n",
       "       [1.0000000e+00],\n",
       "       [1.0000000e+00],\n",
       "       [1.0000000e+00],\n",
       "       [1.0000000e+00],\n",
       "       [1.0000000e+00],\n",
       "       [1.0000000e+00],\n",
       "       [1.0000000e+00],\n",
       "       [1.0000000e+00],\n",
       "       [1.0000000e+00],\n",
       "       [1.0000000e+00],\n",
       "       [1.0000000e+00],\n",
       "       [9.9998081e-01]], dtype=float32)"
      ]
     },
     "execution_count": 101,
     "metadata": {},
     "output_type": "execute_result"
    }
   ],
   "source": [
    "predict"
   ]
  },
  {
   "cell_type": "markdown",
   "metadata": {
    "id": "3FDabRX05kcy"
   },
   "source": [
    "**Convert into either 1 or 0  if grearter than 80% prob convert into 1 uninfected**"
   ]
  },
  {
   "cell_type": "code",
   "execution_count": null,
   "metadata": {
    "colab": {
     "base_uri": "https://localhost:8080/"
    },
    "executionInfo": {
     "elapsed": 907,
     "status": "ok",
     "timestamp": 1629723682392,
     "user": {
      "displayName": "Ahmad Hassan",
      "photoUrl": "https://lh3.googleusercontent.com/a-/AOh14GjivyZWj5GkXWxaN_1rEQX7vl4f0UJ9xojCjxOagw=s64",
      "userId": "15564875757963476455"
     },
     "user_tz": -300
    },
    "id": "b8_glp5t5h1R",
    "outputId": "13d98098-3828-4e15-daf0-11b7a587a789"
   },
   "outputs": [
    {
     "data": {
      "text/plain": [
       "array([[ True],\n",
       "       [False],\n",
       "       [False],\n",
       "       [False],\n",
       "       [False],\n",
       "       [False],\n",
       "       [False],\n",
       "       [ True],\n",
       "       [ True],\n",
       "       [False],\n",
       "       [False],\n",
       "       [ True],\n",
       "       [False],\n",
       "       [False],\n",
       "       [ True],\n",
       "       [ True],\n",
       "       [ True],\n",
       "       [False],\n",
       "       [False],\n",
       "       [False],\n",
       "       [ True],\n",
       "       [False],\n",
       "       [ True],\n",
       "       [False],\n",
       "       [ True],\n",
       "       [False],\n",
       "       [ True],\n",
       "       [False],\n",
       "       [ True],\n",
       "       [ True],\n",
       "       [ True],\n",
       "       [False],\n",
       "       [False],\n",
       "       [False],\n",
       "       [False],\n",
       "       [False],\n",
       "       [False],\n",
       "       [ True],\n",
       "       [False],\n",
       "       [False],\n",
       "       [ True],\n",
       "       [False],\n",
       "       [False],\n",
       "       [False],\n",
       "       [ True],\n",
       "       [ True],\n",
       "       [ True],\n",
       "       [ True],\n",
       "       [ True],\n",
       "       [ True],\n",
       "       [ True],\n",
       "       [False],\n",
       "       [ True],\n",
       "       [False],\n",
       "       [ True],\n",
       "       [False],\n",
       "       [ True],\n",
       "       [False],\n",
       "       [False],\n",
       "       [ True],\n",
       "       [False],\n",
       "       [ True],\n",
       "       [ True],\n",
       "       [False],\n",
       "       [False],\n",
       "       [False],\n",
       "       [False],\n",
       "       [ True],\n",
       "       [False],\n",
       "       [False],\n",
       "       [False],\n",
       "       [False],\n",
       "       [False],\n",
       "       [False],\n",
       "       [False],\n",
       "       [ True],\n",
       "       [False],\n",
       "       [False],\n",
       "       [False],\n",
       "       [False],\n",
       "       [ True],\n",
       "       [False],\n",
       "       [False],\n",
       "       [False],\n",
       "       [False],\n",
       "       [ True],\n",
       "       [False],\n",
       "       [False],\n",
       "       [ True],\n",
       "       [False],\n",
       "       [False],\n",
       "       [False],\n",
       "       [False],\n",
       "       [False],\n",
       "       [False],\n",
       "       [False],\n",
       "       [False],\n",
       "       [ True],\n",
       "       [ True],\n",
       "       [False],\n",
       "       [False],\n",
       "       [ True],\n",
       "       [False],\n",
       "       [ True],\n",
       "       [False],\n",
       "       [ True],\n",
       "       [False],\n",
       "       [False],\n",
       "       [False],\n",
       "       [ True],\n",
       "       [False],\n",
       "       [False],\n",
       "       [False],\n",
       "       [ True],\n",
       "       [False],\n",
       "       [False],\n",
       "       [ True],\n",
       "       [ True],\n",
       "       [ True],\n",
       "       [ True],\n",
       "       [ True],\n",
       "       [ True],\n",
       "       [ True],\n",
       "       [ True],\n",
       "       [ True],\n",
       "       [False],\n",
       "       [ True],\n",
       "       [ True],\n",
       "       [ True],\n",
       "       [ True],\n",
       "       [ True],\n",
       "       [ True],\n",
       "       [ True],\n",
       "       [ True],\n",
       "       [ True],\n",
       "       [ True],\n",
       "       [ True],\n",
       "       [ True],\n",
       "       [ True],\n",
       "       [ True],\n",
       "       [ True],\n",
       "       [ True],\n",
       "       [ True],\n",
       "       [ True],\n",
       "       [ True],\n",
       "       [ True],\n",
       "       [ True],\n",
       "       [ True],\n",
       "       [False],\n",
       "       [False],\n",
       "       [False],\n",
       "       [False],\n",
       "       [ True],\n",
       "       [ True],\n",
       "       [ True],\n",
       "       [False],\n",
       "       [ True],\n",
       "       [ True],\n",
       "       [ True],\n",
       "       [ True],\n",
       "       [ True],\n",
       "       [ True],\n",
       "       [False],\n",
       "       [False],\n",
       "       [False],\n",
       "       [False],\n",
       "       [ True],\n",
       "       [False],\n",
       "       [ True],\n",
       "       [ True],\n",
       "       [False],\n",
       "       [False],\n",
       "       [ True],\n",
       "       [False],\n",
       "       [ True],\n",
       "       [False],\n",
       "       [False],\n",
       "       [False],\n",
       "       [ True],\n",
       "       [False],\n",
       "       [False],\n",
       "       [ True],\n",
       "       [ True],\n",
       "       [False],\n",
       "       [False],\n",
       "       [False],\n",
       "       [False],\n",
       "       [False],\n",
       "       [False],\n",
       "       [False],\n",
       "       [ True],\n",
       "       [False],\n",
       "       [False],\n",
       "       [ True],\n",
       "       [False],\n",
       "       [False],\n",
       "       [ True],\n",
       "       [ True],\n",
       "       [ True],\n",
       "       [False],\n",
       "       [ True],\n",
       "       [ True],\n",
       "       [ True],\n",
       "       [False],\n",
       "       [False],\n",
       "       [False],\n",
       "       [False],\n",
       "       [False],\n",
       "       [False],\n",
       "       [ True],\n",
       "       [False],\n",
       "       [False],\n",
       "       [False],\n",
       "       [False],\n",
       "       [False],\n",
       "       [False],\n",
       "       [False],\n",
       "       [ True],\n",
       "       [ True],\n",
       "       [ True],\n",
       "       [ True],\n",
       "       [ True],\n",
       "       [ True],\n",
       "       [ True],\n",
       "       [False],\n",
       "       [ True],\n",
       "       [ True],\n",
       "       [False],\n",
       "       [ True],\n",
       "       [False],\n",
       "       [ True],\n",
       "       [ True],\n",
       "       [False],\n",
       "       [ True],\n",
       "       [ True],\n",
       "       [ True],\n",
       "       [ True],\n",
       "       [ True],\n",
       "       [ True],\n",
       "       [ True],\n",
       "       [ True],\n",
       "       [ True],\n",
       "       [ True],\n",
       "       [ True],\n",
       "       [ True],\n",
       "       [ True],\n",
       "       [ True],\n",
       "       [ True],\n",
       "       [ True],\n",
       "       [ True],\n",
       "       [ True],\n",
       "       [ True],\n",
       "       [ True],\n",
       "       [ True],\n",
       "       [ True],\n",
       "       [ True],\n",
       "       [ True],\n",
       "       [ True],\n",
       "       [ True],\n",
       "       [ True],\n",
       "       [ True],\n",
       "       [ True],\n",
       "       [ True],\n",
       "       [ True],\n",
       "       [ True],\n",
       "       [ True],\n",
       "       [ True],\n",
       "       [ True],\n",
       "       [ True],\n",
       "       [ True],\n",
       "       [ True],\n",
       "       [ True],\n",
       "       [ True],\n",
       "       [ True],\n",
       "       [ True],\n",
       "       [ True],\n",
       "       [ True],\n",
       "       [ True],\n",
       "       [ True],\n",
       "       [ True],\n",
       "       [ True],\n",
       "       [ True],\n",
       "       [ True],\n",
       "       [ True],\n",
       "       [ True],\n",
       "       [ True],\n",
       "       [ True],\n",
       "       [ True],\n",
       "       [ True],\n",
       "       [ True],\n",
       "       [ True],\n",
       "       [ True],\n",
       "       [ True],\n",
       "       [ True],\n",
       "       [ True],\n",
       "       [ True],\n",
       "       [ True],\n",
       "       [ True],\n",
       "       [ True],\n",
       "       [ True],\n",
       "       [ True],\n",
       "       [ True],\n",
       "       [ True],\n",
       "       [ True],\n",
       "       [ True],\n",
       "       [ True],\n",
       "       [ True],\n",
       "       [ True],\n",
       "       [ True],\n",
       "       [ True],\n",
       "       [ True],\n",
       "       [ True],\n",
       "       [ True],\n",
       "       [ True],\n",
       "       [ True],\n",
       "       [ True],\n",
       "       [ True],\n",
       "       [False],\n",
       "       [ True],\n",
       "       [ True],\n",
       "       [ True],\n",
       "       [ True],\n",
       "       [ True],\n",
       "       [ True],\n",
       "       [ True],\n",
       "       [ True],\n",
       "       [ True],\n",
       "       [ True],\n",
       "       [ True],\n",
       "       [ True],\n",
       "       [ True],\n",
       "       [ True],\n",
       "       [ True],\n",
       "       [ True],\n",
       "       [ True],\n",
       "       [ True],\n",
       "       [ True],\n",
       "       [ True],\n",
       "       [ True],\n",
       "       [ True],\n",
       "       [ True],\n",
       "       [ True],\n",
       "       [ True],\n",
       "       [ True],\n",
       "       [ True],\n",
       "       [ True],\n",
       "       [ True],\n",
       "       [ True],\n",
       "       [ True],\n",
       "       [ True],\n",
       "       [ True],\n",
       "       [ True],\n",
       "       [ True],\n",
       "       [ True],\n",
       "       [ True],\n",
       "       [ True],\n",
       "       [ True],\n",
       "       [ True],\n",
       "       [ True],\n",
       "       [ True],\n",
       "       [ True],\n",
       "       [ True],\n",
       "       [ True],\n",
       "       [ True],\n",
       "       [ True],\n",
       "       [ True],\n",
       "       [ True],\n",
       "       [ True],\n",
       "       [ True],\n",
       "       [ True],\n",
       "       [ True],\n",
       "       [ True],\n",
       "       [ True],\n",
       "       [ True],\n",
       "       [ True],\n",
       "       [ True],\n",
       "       [ True],\n",
       "       [ True],\n",
       "       [ True],\n",
       "       [ True],\n",
       "       [ True],\n",
       "       [ True],\n",
       "       [ True],\n",
       "       [ True],\n",
       "       [ True],\n",
       "       [ True],\n",
       "       [ True],\n",
       "       [ True],\n",
       "       [ True],\n",
       "       [ True],\n",
       "       [ True],\n",
       "       [ True],\n",
       "       [ True],\n",
       "       [ True],\n",
       "       [ True],\n",
       "       [ True],\n",
       "       [ True],\n",
       "       [ True],\n",
       "       [ True],\n",
       "       [ True],\n",
       "       [ True],\n",
       "       [ True],\n",
       "       [ True],\n",
       "       [ True],\n",
       "       [ True],\n",
       "       [ True],\n",
       "       [ True],\n",
       "       [ True],\n",
       "       [ True],\n",
       "       [ True],\n",
       "       [ True],\n",
       "       [ True],\n",
       "       [ True],\n",
       "       [ True],\n",
       "       [ True],\n",
       "       [ True],\n",
       "       [ True],\n",
       "       [ True],\n",
       "       [ True],\n",
       "       [ True],\n",
       "       [ True],\n",
       "       [ True],\n",
       "       [ True],\n",
       "       [ True],\n",
       "       [ True],\n",
       "       [ True],\n",
       "       [ True],\n",
       "       [ True],\n",
       "       [ True],\n",
       "       [ True],\n",
       "       [ True],\n",
       "       [ True],\n",
       "       [ True],\n",
       "       [ True],\n",
       "       [ True],\n",
       "       [ True],\n",
       "       [ True],\n",
       "       [ True],\n",
       "       [ True],\n",
       "       [ True],\n",
       "       [ True],\n",
       "       [ True],\n",
       "       [ True],\n",
       "       [ True],\n",
       "       [ True],\n",
       "       [ True],\n",
       "       [ True],\n",
       "       [ True],\n",
       "       [ True],\n",
       "       [ True],\n",
       "       [ True],\n",
       "       [ True],\n",
       "       [ True],\n",
       "       [ True],\n",
       "       [ True],\n",
       "       [ True],\n",
       "       [ True],\n",
       "       [ True],\n",
       "       [ True],\n",
       "       [ True],\n",
       "       [ True],\n",
       "       [ True],\n",
       "       [ True],\n",
       "       [ True],\n",
       "       [ True],\n",
       "       [ True],\n",
       "       [ True],\n",
       "       [ True],\n",
       "       [ True],\n",
       "       [ True],\n",
       "       [ True],\n",
       "       [ True],\n",
       "       [ True],\n",
       "       [ True],\n",
       "       [ True],\n",
       "       [ True],\n",
       "       [ True],\n",
       "       [ True],\n",
       "       [ True],\n",
       "       [ True],\n",
       "       [ True],\n",
       "       [ True],\n",
       "       [ True],\n",
       "       [ True],\n",
       "       [ True],\n",
       "       [ True],\n",
       "       [ True],\n",
       "       [ True],\n",
       "       [ True],\n",
       "       [ True],\n",
       "       [ True],\n",
       "       [ True],\n",
       "       [ True],\n",
       "       [ True],\n",
       "       [ True],\n",
       "       [ True],\n",
       "       [ True],\n",
       "       [ True],\n",
       "       [ True],\n",
       "       [ True],\n",
       "       [ True],\n",
       "       [ True],\n",
       "       [ True],\n",
       "       [ True],\n",
       "       [ True],\n",
       "       [ True],\n",
       "       [ True],\n",
       "       [ True],\n",
       "       [ True],\n",
       "       [ True],\n",
       "       [ True],\n",
       "       [ True],\n",
       "       [ True],\n",
       "       [ True],\n",
       "       [ True],\n",
       "       [ True],\n",
       "       [ True],\n",
       "       [ True],\n",
       "       [ True],\n",
       "       [ True],\n",
       "       [ True],\n",
       "       [ True],\n",
       "       [ True],\n",
       "       [ True],\n",
       "       [ True],\n",
       "       [ True],\n",
       "       [ True],\n",
       "       [ True],\n",
       "       [ True],\n",
       "       [ True],\n",
       "       [ True],\n",
       "       [ True],\n",
       "       [ True],\n",
       "       [ True],\n",
       "       [ True],\n",
       "       [ True],\n",
       "       [ True],\n",
       "       [ True],\n",
       "       [ True],\n",
       "       [ True],\n",
       "       [ True],\n",
       "       [ True],\n",
       "       [ True],\n",
       "       [ True],\n",
       "       [ True],\n",
       "       [ True],\n",
       "       [ True],\n",
       "       [ True],\n",
       "       [ True],\n",
       "       [ True],\n",
       "       [ True],\n",
       "       [ True],\n",
       "       [ True],\n",
       "       [ True],\n",
       "       [ True],\n",
       "       [ True],\n",
       "       [ True],\n",
       "       [ True],\n",
       "       [ True],\n",
       "       [ True],\n",
       "       [ True],\n",
       "       [ True],\n",
       "       [ True],\n",
       "       [ True],\n",
       "       [ True],\n",
       "       [ True],\n",
       "       [ True],\n",
       "       [ True],\n",
       "       [ True],\n",
       "       [ True],\n",
       "       [ True],\n",
       "       [ True],\n",
       "       [ True],\n",
       "       [ True],\n",
       "       [ True],\n",
       "       [ True],\n",
       "       [ True],\n",
       "       [ True],\n",
       "       [ True],\n",
       "       [ True],\n",
       "       [ True],\n",
       "       [ True],\n",
       "       [ True],\n",
       "       [ True],\n",
       "       [ True],\n",
       "       [ True],\n",
       "       [ True],\n",
       "       [ True],\n",
       "       [ True],\n",
       "       [ True],\n",
       "       [ True],\n",
       "       [ True],\n",
       "       [ True],\n",
       "       [ True],\n",
       "       [ True],\n",
       "       [ True],\n",
       "       [ True],\n",
       "       [ True],\n",
       "       [ True],\n",
       "       [ True],\n",
       "       [ True],\n",
       "       [ True],\n",
       "       [ True],\n",
       "       [ True],\n",
       "       [ True],\n",
       "       [ True],\n",
       "       [ True],\n",
       "       [ True],\n",
       "       [ True],\n",
       "       [ True],\n",
       "       [ True],\n",
       "       [ True],\n",
       "       [ True],\n",
       "       [ True],\n",
       "       [ True],\n",
       "       [ True],\n",
       "       [ True],\n",
       "       [ True],\n",
       "       [ True],\n",
       "       [ True],\n",
       "       [ True],\n",
       "       [ True],\n",
       "       [ True],\n",
       "       [ True]])"
      ]
     },
     "execution_count": 102,
     "metadata": {},
     "output_type": "execute_result"
    }
   ],
   "source": [
    "predict = predict>0.50\n",
    "predict"
   ]
  },
  {
   "cell_type": "markdown",
   "metadata": {
    "id": "dEgoL-vl4sqI"
   },
   "source": [
    "## *Y_TEST?*"
   ]
  },
  {
   "cell_type": "code",
   "execution_count": null,
   "metadata": {
    "colab": {
     "base_uri": "https://localhost:8080/"
    },
    "executionInfo": {
     "elapsed": 19,
     "status": "ok",
     "timestamp": 1629719880484,
     "user": {
      "displayName": "Ahmad Hassan",
      "photoUrl": "https://lh3.googleusercontent.com/a-/AOh14GjivyZWj5GkXWxaN_1rEQX7vl4f0UJ9xojCjxOagw=s64",
      "userId": "15564875757963476455"
     },
     "user_tz": -300
    },
    "id": "dazRJkBe4waK",
    "outputId": "f52f441c-18f7-43bc-8cde-681c176e1e3e"
   },
   "outputs": [
    {
     "data": {
      "text/plain": [
       "{'NORMAL': 0, 'PNEUMONIA': 1}"
      ]
     },
     "execution_count": 50,
     "metadata": {},
     "output_type": "execute_result"
    }
   ],
   "source": [
    "test_gen.class_indices\n"
   ]
  },
  {
   "cell_type": "code",
   "execution_count": null,
   "metadata": {
    "colab": {
     "base_uri": "https://localhost:8080/"
    },
    "executionInfo": {
     "elapsed": 541,
     "status": "ok",
     "timestamp": 1629723686875,
     "user": {
      "displayName": "Ahmad Hassan",
      "photoUrl": "https://lh3.googleusercontent.com/a-/AOh14GjivyZWj5GkXWxaN_1rEQX7vl4f0UJ9xojCjxOagw=s64",
      "userId": "15564875757963476455"
     },
     "user_tz": -300
    },
    "id": "-dH8F-bA47PK",
    "outputId": "ce9585a1-d462-4245-8880-d5fd7a29ccae"
   },
   "outputs": [
    {
     "data": {
      "text/plain": [
       "array([0, 0, 0, 0, 0, 0, 0, 0, 0, 0, 0, 0, 0, 0, 0, 0, 0, 0, 0, 0, 0, 0,\n",
       "       0, 0, 0, 0, 0, 0, 0, 0, 0, 0, 0, 0, 0, 0, 0, 0, 0, 0, 0, 0, 0, 0,\n",
       "       0, 0, 0, 0, 0, 0, 0, 0, 0, 0, 0, 0, 0, 0, 0, 0, 0, 0, 0, 0, 0, 0,\n",
       "       0, 0, 0, 0, 0, 0, 0, 0, 0, 0, 0, 0, 0, 0, 0, 0, 0, 0, 0, 0, 0, 0,\n",
       "       0, 0, 0, 0, 0, 0, 0, 0, 0, 0, 0, 0, 0, 0, 0, 0, 0, 0, 0, 0, 0, 0,\n",
       "       0, 0, 0, 0, 0, 0, 0, 0, 0, 0, 0, 0, 0, 0, 0, 0, 0, 0, 0, 0, 0, 0,\n",
       "       0, 0, 0, 0, 0, 0, 0, 0, 0, 0, 0, 0, 0, 0, 0, 0, 0, 0, 0, 0, 0, 0,\n",
       "       0, 0, 0, 0, 0, 0, 0, 0, 0, 0, 0, 0, 0, 0, 0, 0, 0, 0, 0, 0, 0, 0,\n",
       "       0, 0, 0, 0, 0, 0, 0, 0, 0, 0, 0, 0, 0, 0, 0, 0, 0, 0, 0, 0, 0, 0,\n",
       "       0, 0, 0, 0, 0, 0, 0, 0, 0, 0, 0, 0, 0, 0, 0, 0, 0, 0, 0, 0, 0, 0,\n",
       "       0, 0, 0, 0, 0, 0, 0, 0, 0, 0, 0, 0, 0, 0, 1, 1, 1, 1, 1, 1, 1, 1,\n",
       "       1, 1, 1, 1, 1, 1, 1, 1, 1, 1, 1, 1, 1, 1, 1, 1, 1, 1, 1, 1, 1, 1,\n",
       "       1, 1, 1, 1, 1, 1, 1, 1, 1, 1, 1, 1, 1, 1, 1, 1, 1, 1, 1, 1, 1, 1,\n",
       "       1, 1, 1, 1, 1, 1, 1, 1, 1, 1, 1, 1, 1, 1, 1, 1, 1, 1, 1, 1, 1, 1,\n",
       "       1, 1, 1, 1, 1, 1, 1, 1, 1, 1, 1, 1, 1, 1, 1, 1, 1, 1, 1, 1, 1, 1,\n",
       "       1, 1, 1, 1, 1, 1, 1, 1, 1, 1, 1, 1, 1, 1, 1, 1, 1, 1, 1, 1, 1, 1,\n",
       "       1, 1, 1, 1, 1, 1, 1, 1, 1, 1, 1, 1, 1, 1, 1, 1, 1, 1, 1, 1, 1, 1,\n",
       "       1, 1, 1, 1, 1, 1, 1, 1, 1, 1, 1, 1, 1, 1, 1, 1, 1, 1, 1, 1, 1, 1,\n",
       "       1, 1, 1, 1, 1, 1, 1, 1, 1, 1, 1, 1, 1, 1, 1, 1, 1, 1, 1, 1, 1, 1,\n",
       "       1, 1, 1, 1, 1, 1, 1, 1, 1, 1, 1, 1, 1, 1, 1, 1, 1, 1, 1, 1, 1, 1,\n",
       "       1, 1, 1, 1, 1, 1, 1, 1, 1, 1, 1, 1, 1, 1, 1, 1, 1, 1, 1, 1, 1, 1,\n",
       "       1, 1, 1, 1, 1, 1, 1, 1, 1, 1, 1, 1, 1, 1, 1, 1, 1, 1, 1, 1, 1, 1,\n",
       "       1, 1, 1, 1, 1, 1, 1, 1, 1, 1, 1, 1, 1, 1, 1, 1, 1, 1, 1, 1, 1, 1,\n",
       "       1, 1, 1, 1, 1, 1, 1, 1, 1, 1, 1, 1, 1, 1, 1, 1, 1, 1, 1, 1, 1, 1,\n",
       "       1, 1, 1, 1, 1, 1, 1, 1, 1, 1, 1, 1, 1, 1, 1, 1, 1, 1, 1, 1, 1, 1,\n",
       "       1, 1, 1, 1, 1, 1, 1, 1, 1, 1, 1, 1, 1, 1, 1, 1, 1, 1, 1, 1, 1, 1,\n",
       "       1, 1, 1, 1, 1, 1, 1, 1, 1, 1, 1, 1, 1, 1, 1, 1, 1, 1, 1, 1, 1, 1,\n",
       "       1, 1, 1, 1, 1, 1, 1, 1, 1, 1, 1, 1, 1, 1, 1, 1, 1, 1, 1, 1, 1, 1,\n",
       "       1, 1, 1, 1, 1, 1, 1, 1], dtype=int32)"
      ]
     },
     "execution_count": 103,
     "metadata": {},
     "output_type": "execute_result"
    }
   ],
   "source": [
    "##YTEST Stored here\n",
    "y_test = test_gen.labels\n",
    "y_test"
   ]
  },
  {
   "cell_type": "code",
   "execution_count": null,
   "metadata": {
    "colab": {
     "base_uri": "https://localhost:8080/"
    },
    "executionInfo": {
     "elapsed": 3,
     "status": "ok",
     "timestamp": 1629723689071,
     "user": {
      "displayName": "Ahmad Hassan",
      "photoUrl": "https://lh3.googleusercontent.com/a-/AOh14GjivyZWj5GkXWxaN_1rEQX7vl4f0UJ9xojCjxOagw=s64",
      "userId": "15564875757963476455"
     },
     "user_tz": -300
    },
    "id": "OGBAnu7R5Ea5",
    "outputId": "f5ee1ffb-fdb6-4f5d-d978-04bbf271cccc"
   },
   "outputs": [
    {
     "name": "stdout",
     "output_type": "stream",
     "text": [
      "[[123 111]\n",
      " [  1 389]]\n"
     ]
    }
   ],
   "source": [
    "#Confusion Matrix\n",
    "print(confusion_matrix(y_test, predict))"
   ]
  },
  {
   "cell_type": "code",
   "execution_count": null,
   "metadata": {
    "colab": {
     "base_uri": "https://localhost:8080/"
    },
    "executionInfo": {
     "elapsed": 511,
     "status": "ok",
     "timestamp": 1629723704586,
     "user": {
      "displayName": "Ahmad Hassan",
      "photoUrl": "https://lh3.googleusercontent.com/a-/AOh14GjivyZWj5GkXWxaN_1rEQX7vl4f0UJ9xojCjxOagw=s64",
      "userId": "15564875757963476455"
     },
     "user_tz": -300
    },
    "id": "pN5oIYMl5Fh6",
    "outputId": "f269fa98-65d5-424d-83d7-6f67d3d387e0"
   },
   "outputs": [
    {
     "name": "stdout",
     "output_type": "stream",
     "text": [
      "              precision    recall  f1-score   support\n",
      "\n",
      "           0       0.99      0.53      0.69       234\n",
      "           1       0.78      1.00      0.87       390\n",
      "\n",
      "    accuracy                           0.82       624\n",
      "   macro avg       0.88      0.76      0.78       624\n",
      "weighted avg       0.86      0.82      0.80       624\n",
      "\n"
     ]
    }
   ],
   "source": [
    "#Classification Report\n",
    "print(classification_report(y_test, predict))\n",
    "\n",
    "#92 accuracy in both cases"
   ]
  },
  {
   "cell_type": "markdown",
   "metadata": {
    "id": "3XdSp6Ji7e4_"
   },
   "source": [
    "# Custom Data"
   ]
  },
  {
   "cell_type": "markdown",
   "metadata": {
    "id": "v2UQHOZzAprc"
   },
   "source": [
    "**Load Custom Data using image in keras (WHich allows to output data in given dimension bcz we only predict on images with 1,130,130,3 dim**"
   ]
  },
  {
   "cell_type": "code",
   "execution_count": null,
   "metadata": {
    "id": "wZHOAu6IAm5f"
   },
   "outputs": [],
   "source": [
    "from tensorflow.keras.preprocessing import image"
   ]
  },
  {
   "cell_type": "code",
   "execution_count": null,
   "metadata": {
    "id": "M6-DssJWFSYS"
   },
   "outputs": [],
   "source": [
    "classes = {\n",
    "    0 :\"parasitized_cell\",\n",
    "    1 : \"uninfected_cell\"\n",
    "\n",
    "\n",
    "}"
   ]
  },
  {
   "cell_type": "code",
   "execution_count": null,
   "metadata": {
    "id": "Iq5jFNPO6j4Z"
   },
   "outputs": [],
   "source": [
    "os.listdir(test_dir+'/parasitized')[2]"
   ]
  },
  {
   "cell_type": "code",
   "execution_count": null,
   "metadata": {
    "id": "no2ZSHRdAmn7"
   },
   "outputs": [],
   "source": [
    "#load image in image_loadimage in given dimensions 130,130\n",
    "custom = image.load_img(path=test_dir+'/parasitized/C132P93ThinF_IMG_20151004_153030_cell_10.png', target_size=(130,130,3))\n",
    "\n"
   ]
  },
  {
   "cell_type": "code",
   "execution_count": null,
   "metadata": {
    "id": "IYDmIUz_DYKT"
   },
   "outputs": [],
   "source": [
    "#true image\n",
    "custom"
   ]
  },
  {
   "cell_type": "code",
   "execution_count": null,
   "metadata": {
    "id": "_ui2vXd87Hnp"
   },
   "outputs": [],
   "source": [
    "#True LABEL  0=parasitized we are prdciting on test [2]\n",
    "\n",
    "classes[y_test[2]]"
   ]
  },
  {
   "cell_type": "code",
   "execution_count": null,
   "metadata": {
    "id": "oiqhShh-8Ak6"
   },
   "outputs": [],
   "source": [
    "#OUR PREDICitions\n",
    "#convert back in array to be predicted\n",
    "custom_arrayformat = image.img_to_array(custom)\n",
    "\n",
    "#adding extra dimension\n",
    "custom_arrayformat = np.expand_dims(custom , axis=0)  #adding one extra dimension 1 in image 1,130,130\n",
    "\n"
   ]
  },
  {
   "cell_type": "code",
   "execution_count": null,
   "metadata": {
    "id": "kdisYOkU9jdJ"
   },
   "outputs": [],
   "source": [
    "custom_arrayformat.shape"
   ]
  },
  {
   "cell_type": "code",
   "execution_count": null,
   "metadata": {
    "id": "upMwpskv-ZXr"
   },
   "outputs": [],
   "source": [
    "#also predicted parasitized\n",
    "predict = model.predict_classes(custom_arrayformat)\n",
    "predict = int(predict)\n",
    "classes[predict]  "
   ]
  },
  {
   "cell_type": "code",
   "execution_count": null,
   "metadata": {
    "id": "-pvsVQuEEqiK"
   },
   "outputs": [],
   "source": []
  },
  {
   "cell_type": "markdown",
   "metadata": {
    "id": "yNk9Di7JFuJF"
   },
   "source": [
    "## Saving"
   ]
  },
  {
   "cell_type": "code",
   "execution_count": null,
   "metadata": {
    "id": "9hI5M6J8FvPK"
   },
   "outputs": [],
   "source": [
    "model.save(\"CovidXrayPredictor.h5\")"
   ]
  },
  {
   "cell_type": "code",
   "execution_count": null,
   "metadata": {
    "id": "0qbKr1t_GLLq"
   },
   "outputs": [],
   "source": []
  }
 ],
 "metadata": {
  "accelerator": "GPU",
  "colab": {
   "authorship_tag": "ABX9TyNwTirs2cMEmvfQAdPlAFZz",
   "collapsed_sections": [],
   "name": "CovidXray Predictor.ipynb",
   "provenance": []
  },
  "kernelspec": {
   "display_name": "Python 3",
   "language": "python",
   "name": "python3"
  },
  "language_info": {
   "codemirror_mode": {
    "name": "ipython",
    "version": 3
   },
   "file_extension": ".py",
   "mimetype": "text/x-python",
   "name": "python",
   "nbconvert_exporter": "python",
   "pygments_lexer": "ipython3",
   "version": "3.8.5"
  }
 },
 "nbformat": 4,
 "nbformat_minor": 1
}
